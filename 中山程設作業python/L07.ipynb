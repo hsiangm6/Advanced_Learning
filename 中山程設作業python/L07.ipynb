{
 "cells": [
  {
   "cell_type": "code",
   "execution_count": null,
   "metadata": {},
   "outputs": [],
   "source": [
    "import time\n",
    "class Movie:\n",
    "    local_time=time.ctime()\n",
    "    def __inint__(self):\n",
    "        movie_list={\n",
    "            \"Iron man\":\"\", \n",
    "            \"Memory\":\"\" , \n",
    "            \"Life For Sale\":\"\" }\n",
    "    \n",
    "    def choose_movie(self):\n",
    "\n",
    "    def find_play_time(self):\n",
    "\n",
    "    def __time__(self):\n",
    "\n",
    "            \n"
   ]
  }
 ],
 "metadata": {
  "language_info": {
   "name": "python"
  },
  "orig_nbformat": 4
 },
 "nbformat": 4,
 "nbformat_minor": 2
}
