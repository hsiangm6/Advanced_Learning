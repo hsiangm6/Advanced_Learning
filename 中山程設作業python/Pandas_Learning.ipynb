{
 "cells": [
  {
   "cell_type": "markdown",
   "metadata": {},
   "source": [
    "# Pandas"
   ]
  },
  {
   "cell_type": "code",
   "execution_count": 8,
   "metadata": {},
   "outputs": [],
   "source": [
    "import pandas as pd\n",
    "import numpy as np"
   ]
  },
  {
   "cell_type": "code",
   "execution_count": 6,
   "metadata": {},
   "outputs": [
    {
     "name": "stdout",
     "output_type": "stream",
     "text": [
      "sdata:\n",
      " 0    0.25\n",
      "1    0.50\n",
      "2    0.75\n",
      "3    1.00\n",
      "dtype: float64\n",
      "type: <class 'pandas.core.series.Series'>\n",
      "sdata[1]: 0.5\n",
      "sdata.values: [0.25 0.5  0.75 1.  ]\n",
      "sdata.index: RangeIndex(start=0, stop=4, step=1)\n"
     ]
    }
   ],
   "source": [
    "sdata=pd.Series([0.25, 0.50, 0.75, 1.0])\n",
    "print(\"sdata:\\n\", sdata)\n",
    "print(\"type:\",type(sdata))\n",
    "print(\"sdata[1]:\",sdata[1])\n",
    "print(\"sdata.values:\",sdata.values)\n",
    "print(\"sdata.index:\",sdata.index)"
   ]
  },
  {
   "cell_type": "code",
   "execution_count": 9,
   "metadata": {},
   "outputs": [
    {
     "name": "stdout",
     "output_type": "stream",
     "text": [
      "sdata:\n",
      " a    0.25\n",
      "b    0.50\n",
      "c    0.75\n",
      "d    1.00\n",
      "dtype: float64\n",
      "sdata[b]:  0.5\n"
     ]
    }
   ],
   "source": [
    "sdata=pd.Series([0.25, 0.50, 0.75, 1.0], index=['a', 'b', 'c', 'd'])\n",
    "print(\"sdata:\\n\",sdata)\n",
    "print(\"sdata[b]: \",sdata['b'] )\n"
   ]
  },
  {
   "cell_type": "code",
   "execution_count": 2,
   "metadata": {},
   "outputs": [
    {
     "name": "stdout",
     "output_type": "stream",
     "text": [
      "sdata:\n",
      " 2    0.25\n",
      "5    0.50\n",
      "3    0.75\n",
      "7    1.00\n",
      "dtype: float64\n",
      "sdata[5]:  0.5\n"
     ]
    }
   ],
   "source": [
    "sdata=pd.Series([0.25, 0.50, 0.75, 1.0], index=[2, 5, 3, 7])\n",
    "print(\"sdata:\\n\",sdata)\n",
    "print(\"sdata[5]: \",sdata[5])\n"
   ]
  },
  {
   "cell_type": "markdown",
   "metadata": {},
   "source": [
    "# Series as a specialized dictionary"
   ]
  },
  {
   "cell_type": "code",
   "execution_count": 5,
   "metadata": {},
   "outputs": [
    {
     "name": "stdout",
     "output_type": "stream",
     "text": [
      "Population_dict:\n",
      " {'California': 38332521, 'Texas': 26448163, 'New York': 19651127, 'Florida': 19552860, 'Illinois': 12882135}\n",
      "#population:\n",
      " California    38332521\n",
      "Texas         26448163\n",
      "New York      19651127\n",
      "Florida       19552860\n",
      "Illinois      12882135\n",
      "dtype: int64\n",
      "#Type(population): <class 'pandas.core.series.Series'>\n",
      "#Population['California']: 38332521\n",
      "#Population['Texas':'Florida']:\n",
      " Texas       26448163\n",
      "New York    19651127\n",
      "Florida     19552860\n",
      "dtype: int64\n",
      "#Population.sort_values():\n",
      " Illinois      12882135\n",
      "Florida       19552860\n",
      "New York      19651127\n",
      "Texas         26448163\n",
      "California    38332521\n",
      "dtype: int64\n"
     ]
    }
   ],
   "source": [
    "population_dict={'California': 38332521,\n",
    "                 'Texas': 26448163,\n",
    "                 'New York': 19651127,\n",
    "                 'Florida': 19552860,\n",
    "                 'Illinois': 12882135}\n",
    "print(\"Population_dict:\\n\", population_dict) #為排序的series\n",
    "population=pd.Series(population_dict)\n",
    "print(\"#population:\\n\", population)\n",
    "print(\"#Type(population):\", type(population))\n",
    "print(\"#Population['California']:\", population['California'])\n",
    "print(\"#Population['Texas':'Florida']:\\n\", population['Texas':'Florida'])\n",
    "print(\"#Population.sort_values():\\n\", population.sort_values()) #排序後的series"
   ]
  },
  {
   "cell_type": "code",
   "execution_count": 6,
   "metadata": {},
   "outputs": [
    {
     "name": "stdout",
     "output_type": "stream",
     "text": [
      "#series 5:\n",
      " 100    5\n",
      "200    5\n",
      "300    5\n",
      "dtype: int64\n",
      "#series 2a,1b,3c:\n",
      " 3    c\n",
      "2    a\n",
      "dtype: object\n"
     ]
    }
   ],
   "source": [
    "# Create Series object using Scalar value\n",
    "print(\"#series 5:\\n\", pd.Series(5, index=[100, 200, 300]))\n",
    "print(\"#series 2a,1b,3c:\\n\", pd.Series({2:'a',1:'b', 3:'c'}, index=[3, 2]))\n"
   ]
  },
  {
   "cell_type": "code",
   "execution_count": 28,
   "metadata": {},
   "outputs": [
    {
     "name": "stdout",
     "output_type": "stream",
     "text": [
      "Population:\n",
      " California    38332521\n",
      "Texas         26448163\n",
      "New York      19651127\n",
      "Florida       19552860\n",
      "Illinois      12882135\n",
      "dtype: int64\n",
      "\n",
      "States:\n",
      "             population    area\n",
      "California    38332521  423967\n",
      "Texas         26448163  695692\n",
      "New York      19651127  141297\n",
      "Florida       19552860  170312\n",
      "Illinois      12882135  149995\n",
      "\n",
      "states.index:\n",
      " Index(['California', 'Texas', 'New York', 'Florida', 'Illinois'], dtype='object')\n",
      "states.columns:\n",
      " Index(['population', 'area'], dtype='object')\n",
      "\n",
      "states['area']:\n",
      " California    423967\n",
      "Texas         695692\n",
      "New York      141297\n",
      "Florida       170312\n",
      "Illinois      149995\n",
      "Name: area, dtype: int64\n"
     ]
    }
   ],
   "source": [
    "print(\"Population:\\n\", population)\n",
    "area_dict={'California': 423967,\n",
    "           'Texas': 695692,\n",
    "           'New York': 141297,\n",
    "           'Florida': 170312,\n",
    "           'Illinois': 149995}\n",
    "area=pd.Series(area_dict)\n",
    "states=pd.DataFrame({'population':population,\n",
    "                    'area':area})\n",
    "print(\"\\nStates:\\n\", states)\n",
    "print(\"\\nstates.index:\\n\", states.index)\n",
    "print(\"states.columns:\\n\", states.columns)\n",
    "print(\"\\nstates['area']:\\n\", states['area'])"
   ]
  },
  {
   "cell_type": "markdown",
   "metadata": {},
   "source": [
    "# Constructing DataFrame Objects\n",
    "- From a single series object\n",
    "- From a list of dictionaries\n",
    "- From a dictionary of Series objects\n",
    "- From a two-dimentional NumPy array\n",
    "- From a NumPy structured array"
   ]
  },
  {
   "cell_type": "code",
   "execution_count": 34,
   "metadata": {},
   "outputs": [
    {
     "name": "stdout",
     "output_type": "stream",
     "text": [
      "type of population:  <class 'pandas.core.series.Series'>\n",
      "type of states:  <class 'pandas.core.frame.DataFrame'>\n",
      "populationDF: \n",
      "             population\n",
      "California    38332521\n",
      "Texas         26448163\n",
      "New York      19651127\n",
      "Florida       19552860\n",
      "Illinois      12882135\n",
      "\n",
      "type of population:  <class 'pandas.core.frame.DataFrame'>\n"
     ]
    }
   ],
   "source": [
    "print(\"type of population: \", type(population))\n",
    "print(\"type of states: \", type(states))\n",
    "populationDF=pd.DataFrame(population, columns=['population'])\n",
    "print(\"populationDF: \\n\", populationDF)\n",
    "print(\"\\ntype of population: \", type(populationDF))\n"
   ]
  },
  {
   "cell_type": "code",
   "execution_count": 40,
   "metadata": {},
   "outputs": [
    {
     "name": "stdout",
     "output_type": "stream",
     "text": [
      "data: [{'a': 0, 'b': 0}, {'a': 1, 'b': 2}, {'a': 2, 'b': 4}]\n",
      "type of data: <class 'list'>\n",
      "pd.DataFrame(data):\n",
      "    a  b\n",
      "0  0  0\n",
      "1  1  2\n",
      "2  2  4\n",
      "type of pd.DataFrame(data): <class 'pandas.core.frame.DataFrame'>\n",
      "pd.DataFrame({'a':1, 'b':2},{'b':3, 'c':4}):\n",
      "    a  b\n",
      "b  1  2\n",
      "c  1  2\n"
     ]
    }
   ],
   "source": [
    "#Create the DataFrame From a list of dictionary\n",
    "data=[{'a':i, 'b':2*i}\n",
    "    for i in range(3)]\n",
    "print(\"data:\", data)\n",
    "print(\"type of data:\", type(data))\n",
    "print(\"pd.DataFrame(data):\\n\", pd.DataFrame(data))\n",
    "print(\"type of pd.DataFrame(data):\", type(pd.DataFrame(data)))\n",
    "\n",
    "#DataFrame can handle missing values\n",
    "print(\"pd.DataFrame({'a':1, 'b':2},{'b':3, 'c':4}):\\n\", pd.DataFrame({'a':1, 'b':2},{'b':3, 'c':4}))\n"
   ]
  },
  {
   "cell_type": "code",
   "execution_count": 45,
   "metadata": {},
   "outputs": [
    {
     "name": "stdout",
     "output_type": "stream",
     "text": [
      "pd.DataFrame({'a':1, 'b':2},{'b':3, 'c':4}):\n",
      "    a  b\n",
      "b  1  2\n",
      "c  1  2\n",
      "pd.DataFrame(np.random.rand(3, 2)):\n",
      "         foo       bar\n",
      "a  0.926434  0.635717\n",
      "b  0.704050  0.737990\n",
      "c  0.464303  0.388702\n",
      "Int64Index([2, 3, 5, 7, 11], dtype='int64')\n",
      "ind[1]: 3\n"
     ]
    }
   ],
   "source": [
    "#DataFrame can handle missing values\n",
    "print(\"pd.DataFrame({'a':1, 'b':2},{'b':3, 'c':4}):\\n\", pd.DataFrame({'a':1, 'b':2},{'b':3, 'c':4}))\n",
    "\n",
    "#Create DataFrame use two-dimentional NumPy array\n",
    "print(\"pd.DataFrame(np.random.rand(3, 2)):\\n\", pd.DataFrame(np.random.rand(3, 2), columns=['foo', 'bar'], index=['a', 'b', 'c']))\n",
    "\n",
    "#Create an Index from the list of integer\n",
    "ind=pd.Index([2, 3, 5, 7, 11])\n",
    "print(ind)\n",
    "print(\"ind[1]:\", ind[1])\n",
    "#ind[1]=0 --> TypeError: Index does not support mutable operations"
   ]
  },
  {
   "cell_type": "markdown",
   "metadata": {},
   "source": [
    "# Index as ordered set"
   ]
  },
  {
   "cell_type": "code",
   "execution_count": 53,
   "metadata": {},
   "outputs": [
    {
     "name": "stdout",
     "output_type": "stream",
     "text": [
      "indA:  Int64Index([1, 3, 5, 7, 9], dtype='int64')\n",
      "indB:  Int64Index([2, 3, 5, 7, 11], dtype='int64')\n",
      "intersection:  Int64Index([3, 5, 7], dtype='int64')\n",
      "union:  Int64Index([1, 2, 3, 5, 7, 9, 11], dtype='int64')\n",
      "diiferences:  Int64Index([1, 2, 9, 11], dtype='int64')\n"
     ]
    }
   ],
   "source": [
    "indA=pd.Index([1, 3, 5, 7, 9])\n",
    "indB=pd.Index([2, 3, 5, 7, 11])\n",
    "#indA & indB --> index.intersection(other) instead\n",
    "print(\"indA: \", indA)\n",
    "print(\"indB: \", indB)\n",
    "print(\"intersection: \", indA.intersection(indB))\n",
    "\n",
    "#indA | indB --> Use index.union(other) instead\n",
    "print(\"union: \", indA.union(indB))\n",
    "\n",
    "#Differences\n",
    "#indA ^ indB --> index.symmetric_difference(other) instead\n",
    "print(\"diiferences: \", indA.symmetric_difference(indB))"
   ]
  },
  {
   "cell_type": "markdown",
   "metadata": {},
   "source": [
    "# Data Indexing and Selection\n",
    "- Series as dictionary"
   ]
  },
  {
   "cell_type": "code",
   "execution_count": 62,
   "metadata": {},
   "outputs": [
    {
     "name": "stdout",
     "output_type": "stream",
     "text": [
      "data:\n",
      " a    0.25\n",
      "b    0.50\n",
      "c    0.75\n",
      "d    1.00\n",
      "dtype: float64\n",
      "\n",
      "'a' in data:  True\n",
      "data.key():  Index(['a', 'b', 'c', 'd'], dtype='object')\n",
      "list(data.items()):  [('a', 0.25), ('b', 0.5), ('c', 0.75), ('d', 1.0)]\n",
      "\n",
      "data: \n",
      " a    0.25\n",
      "b    0.50\n",
      "c    0.75\n",
      "d    1.00\n",
      "e    1.25\n",
      "dtype: float64\n"
     ]
    }
   ],
   "source": [
    "data=pd.Series([0.25, 0.50, 0.75, 1.00], index=['a', 'b', 'c', 'd'])\n",
    "print(\"data:\\n\", data)\n",
    "print(\"\\n\\'a\\' in data: \", 'a' in data)\n",
    "print(\"data.key(): \", data.keys())\n",
    "print(\"list(data.items()): \", list(data.items()))\n",
    "data['e']=1.25 #add element\n",
    "print(\"\\ndata: \\n\", data)\n"
   ]
  },
  {
   "cell_type": "code",
   "execution_count": 66,
   "metadata": {},
   "outputs": [
    {
     "name": "stdout",
     "output_type": "stream",
     "text": [
      "data['a':'c']:\n",
      " a    0.25\n",
      "b    0.50\n",
      "c    0.75\n",
      "dtype: float64\n",
      "\n",
      "data[0:2]:\n",
      " a    0.25\n",
      "b    0.50\n",
      "dtype: float64\n",
      "\n",
      "data:\n",
      " a    0.25\n",
      "b    0.50\n",
      "c    0.75\n",
      "d    1.00\n",
      "e    1.25\n",
      "dtype: float64\n"
     ]
    }
   ],
   "source": [
    "#Slicing using explicit indexing\n",
    "print(\"data['a':'c']:\\n\", data['a':'c'])\n",
    "\n",
    "#Slicing using implicit indexing\n",
    "print(\"\\ndata[0:2]:\\n\", data[0:2])\n",
    "\n",
    "print(\"\\ndata:\\n\", data)\n"
   ]
  },
  {
   "cell_type": "code",
   "execution_count": 70,
   "metadata": {},
   "outputs": [
    {
     "name": "stdout",
     "output_type": "stream",
     "text": [
      "data[(data>0.3)&(data<0.8)]: \n",
      " b    0.50\n",
      "c    0.75\n",
      "dtype: float64\n",
      "\n",
      "data[['a', 'd']]: \n",
      " a    0.25\n",
      "d    1.00\n",
      "dtype: float64\n"
     ]
    }
   ],
   "source": [
    "#Masking\n",
    "print(\"data[(data>0.3)&(data<0.8)]: \\n\", data[(data>0.3)&(data<0.8)])\n",
    "\n",
    "#Fancy Indexing, list of indices Fancy Indexing 指傳遞索引陣列以便一次得到多個陣列元素。\n",
    "#https://medium.com/allen%E7%9A%84%E6%8A%80%E8%A1%93%E7%AD%86%E8%A8%98/python-numpy-fancy-indexing-ff1ac286d671\n",
    "print(\"\\ndata[['a', 'd']]: \\n\", data[['a', 'd']])\n",
    "\n",
    "#Index"
   ]
  },
  {
   "cell_type": "markdown",
   "metadata": {},
   "source": [
    "# Indexer loc and iloc"
   ]
  },
  {
   "cell_type": "code",
   "execution_count": 79,
   "metadata": {},
   "outputs": [
    {
     "name": "stdout",
     "output_type": "stream",
     "text": [
      "data:\n",
      " 1    a\n",
      "3    b\n",
      "5    c\n",
      "dtype: object\n",
      "data[1]: a\n",
      "data[1:3]:\n",
      " 3    b\n",
      "5    c\n",
      "dtype: object\n",
      "\n",
      "data.loc[1]:  a\n",
      "data.iloc[1]:  b\n"
     ]
    }
   ],
   "source": [
    "data=pd.Series(['a', 'b', 'c'], index=[1, 3, 5])\n",
    "print(\"data:\\n\", data)\n",
    "\n",
    "#to access data using index it using explicit indexing\n",
    "print(\"data[1]:\", data[1])\n",
    "#to access data using slicing it uses implicit indexing\n",
    "print(\"data[1:3]:\\n\", data[1:3])\n",
    "#loc uses explicit(明顯的) indexing\n",
    "print(\"\\ndata.loc[1]: \", data.loc[1])\n",
    "#iloc uses implicit(隱晦的) indexing\n",
    "print(\"data.iloc[1]: \", data.iloc[1])"
   ]
  },
  {
   "cell_type": "markdown",
   "metadata": {},
   "source": [
    "# Data selection in DataFrame\n",
    "## DataFrame as a dictionary"
   ]
  },
  {
   "cell_type": "code",
   "execution_count": 21,
   "metadata": {},
   "outputs": [
    {
     "name": "stdout",
     "output_type": "stream",
     "text": [
      "data:\n",
      "               area       pop\n",
      "California  423967  38332521\n",
      "Texas       695692  26448163\n",
      "New York    141297  19651127\n",
      "Florida     170312  19552860\n",
      "Illinois    149995  12882135\n"
     ]
    }
   ],
   "source": [
    "pop=pd.Series({'California': 38332521,\n",
    "                'Texas': 26448163,\n",
    "                'New York': 19651127,\n",
    "                'Florida': 19552860,\n",
    "                'Illinois': 12882135})\n",
    "\n",
    "area=pd.Series({'California': 423967,\n",
    "                'Texas': 695692,\n",
    "                'New York': 141297,\n",
    "                'Florida': 170312,\n",
    "                'Illinois': 149995})\n",
    "\n",
    "data=pd.DataFrame({'area':area,\n",
    "                    'pop':pop})\n",
    "\n",
    "print(\"data:\\n\", data)\n",
    "\n"
   ]
  },
  {
   "cell_type": "code",
   "execution_count": 23,
   "metadata": {},
   "outputs": [
    {
     "name": "stdout",
     "output_type": "stream",
     "text": [
      "area:\n",
      " California    423967\n",
      "Texas         695692\n",
      "New York      141297\n",
      "Florida       170312\n",
      "Illinois      149995\n",
      "Name: area, dtype: int64\n",
      "\n",
      "data.area:\n",
      " California    423967\n",
      "Texas         695692\n",
      "New York      141297\n",
      "Florida       170312\n",
      "Illinois      149995\n",
      "Name: area, dtype: int64\n",
      "\n",
      "data.area is data['area']: True\n"
     ]
    }
   ],
   "source": [
    "#Dictionary style indexing  \n",
    "print(\"area:\\n\", data['area'])\n",
    "\n",
    "#attribute style\n",
    "print(\"\\ndata.area:\\n\", data.area)\n",
    "\n",
    "#are we getting the same data from using different methods\n",
    "print(\"\\ndata.area is data['area']:\", data.area is data['area'])\n",
    "\n"
   ]
  },
  {
   "cell_type": "code",
   "execution_count": 24,
   "metadata": {},
   "outputs": [
    {
     "name": "stdout",
     "output_type": "stream",
     "text": [
      "\n",
      "data.pop:\n",
      " <bound method DataFrame.pop of               area       pop\n",
      "California  423967  38332521\n",
      "Texas       695692  26448163\n",
      "New York    141297  19651127\n",
      "Florida     170312  19552860\n",
      "Illinois    149995  12882135>\n",
      "\n",
      "data['pop']:\n",
      " California    38332521\n",
      "Texas         26448163\n",
      "New York      19651127\n",
      "Florida       19552860\n",
      "Illinois      12882135\n",
      "Name: pop, dtype: int64\n",
      "\n",
      "data.pop is data['pop']: False\n"
     ]
    }
   ],
   "source": [
    "print(\"\\ndata.pop:\\n\", data.pop)\n",
    "print(\"\\ndata['pop']:\\n\", data['pop'])\n",
    "print(\"\\ndata.pop is data['pop']:\", data.pop is data['pop'])"
   ]
  },
  {
   "cell_type": "code",
   "execution_count": 25,
   "metadata": {},
   "outputs": [
    {
     "name": "stdout",
     "output_type": "stream",
     "text": [
      "data:\n",
      "               area       pop     density\n",
      "California  423967  38332521   90.413926\n",
      "Texas       695692  26448163   38.017058\n",
      "New York    141297  19651127  139.076746\n",
      "Florida     170312  19552860  114.806121\n",
      "Illinois    149995  12882135   85.883763\n",
      "data.values:\n",
      " [[4.23967000e+05 3.83325210e+07 9.04139261e+01]\n",
      " [6.95692000e+05 2.64481630e+07 3.80170578e+01]\n",
      " [1.41297000e+05 1.96511270e+07 1.39076746e+02]\n",
      " [1.70312000e+05 1.95528600e+07 1.14806121e+02]\n",
      " [1.49995000e+05 1.28821350e+07 8.58837628e+01]]\n",
      "data.values[0]:\n",
      " [4.23967000e+05 3.83325210e+07 9.04139261e+01]\n"
     ]
    }
   ],
   "source": [
    "# data.pop = avoid using attribute style indexing to modify the value\n",
    "data['pop']\n",
    "data['density']=data['pop']/data['area']\n",
    "print(\"data:\\n\", data)\n",
    "\n",
    "#to get the values of DataFrame\n",
    "print(\"data.values:\\n\", data.values)\n",
    "\n",
    "#to  get the first row of the dataframe\n",
    "print(\"data.values[0]:\\n\", data.values[0])\n",
    "\n",
    "\n",
    "\n"
   ]
  },
  {
   "cell_type": "code",
   "execution_count": 26,
   "metadata": {},
   "outputs": [
    {
     "name": "stdout",
     "output_type": "stream",
     "text": [
      "data.iloc[:3, :2]:\n",
      "               area       pop\n",
      "California  423967  38332521\n",
      "Texas       695692  26448163\n",
      "New York    141297  19651127\n",
      "data.loc[:'Illinois', :'pop']:\n",
      "               area       pop\n",
      "California  423967  38332521\n",
      "Texas       695692  26448163\n",
      "New York    141297  19651127\n",
      "Florida     170312  19552860\n",
      "Illinois    149995  12882135\n",
      "data.loc[:'Florida', :'density']:\n",
      "               area       pop     density\n",
      "California  423967  38332521   90.413926\n",
      "Texas       695692  26448163   38.017058\n",
      "New York    141297  19651127  139.076746\n",
      "Florida     170312  19552860  114.806121\n"
     ]
    }
   ],
   "source": [
    "#Slicing using implicit indexing\n",
    "print(\"data.iloc[:3, :2]:\\n\", data.iloc[:3, :2])\n",
    "\n",
    "#Explicit  index includes the final index\n",
    "print(\"data.loc[:'Illinois', :'pop']:\\n\", data.loc[:'Illinois', :'pop'])\n",
    "\n",
    "print(\"data.loc[:'Florida', :'density']:\\n\", data.loc[:'Florida', :'density'])"
   ]
  },
  {
   "cell_type": "code",
   "execution_count": 29,
   "metadata": {},
   "outputs": [
    {
     "name": "stdout",
     "output_type": "stream",
     "text": [
      "#combination: \n",
      "                pop     density\n",
      "New York  19651127  139.076746\n",
      "Florida   19552860  114.806121\n",
      "#data:\n",
      "               area       pop     density\n",
      "California  423967  38332521   90.000000\n",
      "Texas       695692  26448163   38.017058\n",
      "New York    141297  19651127  139.076746\n",
      "Florida     170312  19552860  114.806121\n",
      "Illinois    149995  12882135   85.883763\n",
      "#modified data:\n",
      "               area       pop     density\n",
      "California  423967  38332521   90.000000\n",
      "Texas       695692  26448163   38.017058\n",
      "New York    141297  19651127  139.076746\n",
      "Florida     170312  19552860  114.806121\n",
      "Illinois    149995  12882135   85.883763\n",
      "#Swap:\n",
      "          California         Texas      New York       Florida      Illinois\n",
      "area       423967.0  6.956920e+05  1.412970e+05  1.703120e+05  1.499950e+05\n",
      "pop      38332521.0  2.644816e+07  1.965113e+07  1.955286e+07  1.288214e+07\n",
      "density        90.0  3.801706e+01  1.390767e+02  1.148061e+02  8.588376e+01\n"
     ]
    }
   ],
   "source": [
    "#loc and iloc can combine masking and fancy indexing\n",
    "print(\"#combination: \\n\", data.loc[data.density>100, ['pop', 'density']])\n",
    "print(\"#data:\\n\", data)\n",
    "\n",
    "#Modify DataFrame using iloc\n",
    "data.iloc[0,2]=90\n",
    "print(\"#modified data:\\n\", data)\n",
    "\n",
    "#swap columns and rows using transpose()\n",
    "#https://note.nkmk.me/en/python-pandas-t-transpose/\n",
    "print(\"#Swap:\\n\", data.transpose())\n",
    "\n"
   ]
  },
  {
   "cell_type": "markdown",
   "metadata": {},
   "source": [
    "# Operating on Data in Pandas"
   ]
  },
  {
   "cell_type": "code",
   "execution_count": 30,
   "metadata": {},
   "outputs": [
    {
     "name": "stdout",
     "output_type": "stream",
     "text": [
      "#ser:\n",
      " 0    6\n",
      "1    3\n",
      "2    7\n",
      "3    4\n",
      "dtype: int32\n",
      "#df:\n",
      "    a  b  c  d\n",
      "0  6  9  2  6\n",
      "1  7  4  3  7\n",
      "2  7  2  5  4\n",
      "#exp(ser):\n",
      " 0     403.428793\n",
      "1      20.085537\n",
      "2    1096.633158\n",
      "3      54.598150\n",
      "dtype: float64\n",
      "#sin(df*np.pi/4):\n",
      "           a             b         c             d\n",
      "0 -1.000000  7.071068e-01  1.000000 -1.000000e+00\n",
      "1 -0.707107  1.224647e-16  0.707107 -7.071068e-01\n",
      "2 -0.707107  1.000000e+00 -0.707107  1.224647e-16\n"
     ]
    }
   ],
   "source": [
    "#Series\n",
    "rng=np.random.RandomState(42)\n",
    "ser=pd.Series(rng.randint(0, 10, 4))\n",
    "print(\"#ser:\\n\", ser)\n",
    "\n",
    "#DataFrame\n",
    "df=pd.DataFrame(rng.randint(0, 10,(3, 4)), columns=['a', 'b', 'c', 'd'])\n",
    "print(\"#df:\\n\", df)\n",
    "\n",
    "#Index preserve in Series offer applying NumPy operation\n",
    "#以自然常数e为底的指数函数: https://blog.csdn.net/Ericsson_Liu/article/details/81271021\n",
    "print(\"#exp(ser):\\n\", np.exp(ser))\n",
    "\n",
    "#Index preserves in DataFrame\n",
    "print(\"#sin(df*np.pi/4):\\n\", np.sin(df*np.pi/4))\n"
   ]
  },
  {
   "cell_type": "markdown",
   "metadata": {},
   "source": [
    "# Indexing Alignment in Series"
   ]
  },
  {
   "cell_type": "code",
   "execution_count": 32,
   "metadata": {},
   "outputs": [
    {
     "name": "stdout",
     "output_type": "stream",
     "text": [
      "#area:\n",
      " Alaska        1723337\n",
      "Texas          695692\n",
      "California     423967\n",
      "dtype: int64\n",
      "\n",
      "#population:\n",
      " California    38332521\n",
      "Texas         26448193\n",
      "New York      19651127\n",
      "dtype: int64\n",
      "\n",
      "#area/population:\n",
      " Alaska             NaN\n",
      "California    0.011060\n",
      "New York           NaN\n",
      "Texas         0.026304\n",
      "dtype: float64\n",
      "\n",
      "#area.index.union(population.index):\n",
      " Index(['Alaska', 'California', 'New York', 'Texas'], dtype='object')\n"
     ]
    }
   ],
   "source": [
    "area=pd.Series({'Alaska':1723337,\n",
    "                'Texas': 695692,\n",
    "                'California': 423967\n",
    "                })\n",
    "print(\"#area:\\n\", area)\n",
    "population=pd.Series({'California': 38332521,\n",
    "                'Texas': 26448193,\n",
    "                'New York':19651127\n",
    "                })\n",
    "print(\"\\n#population:\\n\", population)\n",
    "print(\"\\n#area/population:\\n\", area/population)\n",
    "print(\"\\n#area.index.union(population.index):\\n\", area.index.union(population.index))"
   ]
  },
  {
   "cell_type": "markdown",
   "metadata": {},
   "source": [
    "# Index Alignment in DataFrame"
   ]
  },
  {
   "cell_type": "code",
   "execution_count": 35,
   "metadata": {},
   "outputs": [
    {
     "name": "stdout",
     "output_type": "stream",
     "text": [
      "#A:\n",
      "     x   y\n",
      "0   8   1\n",
      "1  19  14\n",
      "\n",
      "#B:\n",
      "    x  y  z\n",
      "0  6  7  2\n",
      "1  0  3  1\n",
      "2  7  3  1\n",
      "\n",
      "#A+B:\n",
      "       x     y   z\n",
      "0  14.0   8.0 NaN\n",
      "1  19.0  17.0 NaN\n",
      "2   NaN   NaN NaN\n"
     ]
    }
   ],
   "source": [
    "A=pd.DataFrame(rng.randint(0, 20, (2, 2)), columns=list('xy'))\n",
    "print(\"#A:\\n\", A)\n",
    "B=pd.DataFrame(rng.randint(0, 10, (3, 3)), columns=list('xyz'))\n",
    "print(\"\\n#B:\\n\", B)\n",
    "print(\"\\n#A+B:\\n\", A+B)\n",
    "\n"
   ]
  },
  {
   "cell_type": "code",
   "execution_count": 37,
   "metadata": {},
   "outputs": [
    {
     "name": "stdout",
     "output_type": "stream",
     "text": [
      "\n",
      "#fill:\n",
      " 10.5\n",
      "\n",
      "#A.add(B, fill_value=fill):\n",
      "       x     y     z\n",
      "0  14.0   8.0  12.5\n",
      "1  19.0  17.0  11.5\n",
      "2  17.5  13.5  11.5\n",
      "\n",
      "#B:\n",
      "    x  y  z\n",
      "0  6  7  2\n",
      "1  0  3  1\n",
      "2  7  3  1\n"
     ]
    }
   ],
   "source": [
    "#pd.stack(): https://pandas.pydata.org/docs/reference/api/pandas.DataFrame.stack.html\n",
    "#np.stack(): https://numpy.org/doc/stable/reference/generated/numpy.stack.html\n",
    "fill=A.stack().mean() #所有A內的數值相加取平均\n",
    "print(\"\\n#fill:\\n\", fill)\n",
    "print(\"\\n#A.add(B, fill_value=fill):\\n\", A.add(B, fill_value=fill))\n",
    "print(\"\\n#B:\\n\", B)"
   ]
  },
  {
   "cell_type": "markdown",
   "metadata": {},
   "source": [
    "# Operations Between Series and DataFrame\n",
    "- Operations between Series and DataFrame are similar as operations between one-dimentional and two-dimentional array"
   ]
  },
  {
   "cell_type": "code",
   "execution_count": 39,
   "metadata": {},
   "outputs": [
    {
     "name": "stdout",
     "output_type": "stream",
     "text": [
      "\n",
      "#A:\n",
      " [[6 3 7 4]\n",
      " [6 9 2 6]\n",
      " [7 4 3 7]]\n",
      "\n",
      "#A[0]: \n",
      " [6 3 7 4]\n",
      "\n",
      "#A-A[0]:\n",
      " [[ 0  0  0  0]\n",
      " [ 0  6 -5  2]\n",
      " [ 1  1 -4  3]]\n"
     ]
    }
   ],
   "source": [
    "rng= np.random.RandomState(42)\n",
    "A= rng.randint(10, size=(3, 4))\n",
    "print(\"\\n#A:\\n\", A)\n",
    "print(\"\\n#A[0]: \\n\", A[0])\n",
    "print(\"\\n#A-A[0]:\\n\", A-A[0]) #每一row皆減A[0]"
   ]
  },
  {
   "cell_type": "code",
   "execution_count": 45,
   "metadata": {},
   "outputs": [
    {
     "name": "stdout",
     "output_type": "stream",
     "text": [
      "#df:\n",
      "    Q  R  S  T\n",
      "0  6  3  7  4\n",
      "1  6  9  2  6\n",
      "2  7  4  3  7\n",
      "\n",
      "#df.iloc[0]:\n",
      " Q    6\n",
      "R    3\n",
      "S    7\n",
      "T    4\n",
      "Name: 0, dtype: int32\n",
      "\n",
      "#df-df.iloc[0]:\n",
      "    Q  R  S  T\n",
      "0  0  0  0  0\n",
      "1  0  6 -5  2\n",
      "2  1  1 -4  3\n"
     ]
    }
   ],
   "source": [
    "#Create DataFrame\n",
    "df=pd.DataFrame(A, columns=list('QRST'))\n",
    "print(\"#df:\\n\", df)\n",
    "print(\"\\n#df.iloc[0]:\\n\", df.iloc[0])\n",
    "\n",
    "#By default the operation is done row-wise\n",
    "print(\"\\n#df-df.iloc[0]:\\n\", df-df.iloc[0])\n",
    "\n"
   ]
  },
  {
   "cell_type": "code",
   "execution_count": 47,
   "metadata": {},
   "outputs": [
    {
     "name": "stdout",
     "output_type": "stream",
     "text": [
      "#df:\n",
      "    Q  R  S  T\n",
      "0  6  3  7  4\n",
      "1  6  9  2  6\n",
      "2  7  4  3  7\n",
      "\n",
      "#df.subtract(df['R'], axis=0):\n",
      "    Q  R  S  T\n",
      "0  3  0  4  1\n",
      "1 -3  0 -7 -3\n",
      "2  3  0 -1  3\n",
      "\n",
      "#halfrow:\n",
      " Q    6\n",
      "S    7\n",
      "Name: 0, dtype: int32\n",
      "\n",
      "#df-halfrow:\n",
      "      Q   R    S   T\n",
      "0  0.0 NaN  0.0 NaN\n",
      "1  0.0 NaN -5.0 NaN\n",
      "2  1.0 NaN -4.0 NaN\n"
     ]
    }
   ],
   "source": [
    "#Substracting one of the column elements to rest of the columm elements\n",
    "print(\"#df:\\n\", df)\n",
    "print(\"\\n#df.subtract(df['R'], axis=0):\\n\", df.subtract(df['R'], axis=0)) #每一column減掉df['R']那一column的值\n",
    "\n",
    "#Substracting one element of a column to rest of the elements in column\n",
    "halfrow = df.iloc[0, ::2]\n",
    "print(\"\\n#halfrow:\\n\", halfrow)\n",
    "print(\"\\n#df-halfrow:\\n\", df-halfrow)"
   ]
  },
  {
   "cell_type": "markdown",
   "metadata": {},
   "source": [
    "# Operating on Null Values\n",
    "- Pandas provide seceral useful functions for detecting, removing and replacing null values\n",
    "- isnull() #generates the boolean mask indicating missing values\n",
    "- notnull() #opposite of isnull()\n",
    "- fillna() #missing values filled"
   ]
  },
  {
   "cell_type": "markdown",
   "metadata": {},
   "source": [
    "## Detecting Null Values"
   ]
  },
  {
   "cell_type": "code",
   "execution_count": 57,
   "metadata": {},
   "outputs": [
    {
     "name": "stdout",
     "output_type": "stream",
     "text": [
      "#data: \n",
      " 0        1\n",
      "1      NaN\n",
      "2    hello\n",
      "3     None\n",
      "dtype: object\n",
      "\n",
      "#data.isnull: \n",
      " 0    False\n",
      "1     True\n",
      "2    False\n",
      "3     True\n",
      "dtype: bool\n"
     ]
    }
   ],
   "source": [
    "data=pd.Series([1, np.nan, 'hello', None]) #np.nan=none value\n",
    "print(\"#data: \\n\", data)\n",
    "print(\"\\n#data.isnull: \\n\", data.isnull())"
   ]
  },
  {
   "cell_type": "markdown",
   "metadata": {},
   "source": [
    "- fillter out the null values"
   ]
  },
  {
   "cell_type": "code",
   "execution_count": 58,
   "metadata": {},
   "outputs": [
    {
     "name": "stdout",
     "output_type": "stream",
     "text": [
      "#data[data.notnull()]: \n",
      " 0        1\n",
      "2    hello\n",
      "dtype: object\n",
      "\n",
      "#ser1: \n",
      " 0        1\n",
      "2    hello\n",
      "dtype: object\n"
     ]
    }
   ],
   "source": [
    "print(\"#data[data.notnull()]: \\n\", data[data.notnull()])\n",
    "\n",
    "#Removal of NA values for seroes\n",
    "ser1=data.dropna()\n",
    "print(\"\\n#ser1: \\n\", ser1)\n",
    "\n"
   ]
  },
  {
   "cell_type": "markdown",
   "metadata": {},
   "source": [
    "# Operating on DataFrames"
   ]
  },
  {
   "cell_type": "code",
   "execution_count": 62,
   "metadata": {},
   "outputs": [
    {
     "name": "stdout",
     "output_type": "stream",
     "text": [
      "\n",
      "#df:\n",
      "      0    1  2\n",
      "0  1.0  NaN  2\n",
      "1  2.0  3.0  5\n",
      "2  NaN  4.0  6\n",
      "\n",
      "#df.dropna(axis='columns'):\n",
      "    2\n",
      "0  2\n",
      "1  5\n",
      "2  6\n",
      "\n",
      "#df:\n",
      "      0    1  2   3\n",
      "0  1.0  NaN  2 NaN\n",
      "1  2.0  3.0  5 NaN\n",
      "2  NaN  4.0  6 NaN\n",
      "\n",
      "#df.dropna(axis='columns'):\n",
      "      0    1  2\n",
      "0  1.0  NaN  2\n",
      "1  2.0  3.0  5\n",
      "2  NaN  4.0  6\n",
      "     0    1  2   3\n",
      "1  2.0  3.0  5 NaN\n"
     ]
    }
   ],
   "source": [
    "df=pd.DataFrame([[1, np.nan, 2], \n",
    "                [2, 3, 5],\n",
    "                [np.nan, 4, 6]])\n",
    "print(\"\\n#df:\\n\", df)\n",
    "print(\"\\n#df.dropna(axis='columns'):\\n\", df.dropna(axis='columns'))\n",
    "\n",
    "#Creating the nan value column\n",
    "df[3]=np.NaN\n",
    "print(\"\\n#df:\\n\", df)\n",
    "print(\"\\n#df.dropna(axis='columns'):\\n\", df.dropna(axis='columns', how='all'))\n",
    "\n",
    "#Specifying the minimum number we want to keep to remove Nan\n",
    "print(df.dropna(axis='rows', thresh=3))"
   ]
  },
  {
   "cell_type": "markdown",
   "metadata": {},
   "source": [
    "# Filling Null Values"
   ]
  },
  {
   "cell_type": "code",
   "execution_count": 68,
   "metadata": {},
   "outputs": [
    {
     "name": "stdout",
     "output_type": "stream",
     "text": [
      "#data:\n",
      " a    1.0\n",
      "b    NaN\n",
      "c    2.0\n",
      "d    NaN\n",
      "e    3.0\n",
      "dtype: float64\n",
      "\n",
      "#data.fillna(0):\n",
      " a    1.0\n",
      "b    0.0\n",
      "c    2.0\n",
      "d    0.0\n",
      "e    3.0\n",
      "dtype: float64\n"
     ]
    }
   ],
   "source": [
    "data=pd.Series([1, np.nan, 2, None, 3], index=list('abcde'))\n",
    "print(\"#data:\\n\", data)\n",
    "print(\"\\n#data.fillna(0):\\n\", data.fillna(0))\n"
   ]
  },
  {
   "cell_type": "code",
   "execution_count": 67,
   "metadata": {},
   "outputs": [
    {
     "name": "stdout",
     "output_type": "stream",
     "text": [
      "\n",
      "#data.fillna(method='ffill'):\n",
      " a    1.0\n",
      "b    1.0\n",
      "c    2.0\n",
      "d    2.0\n",
      "e    3.0\n",
      "dtype: float64\n",
      "\n",
      "#data.fillna(method='bfill'):\n",
      " a    1.0\n",
      "b    2.0\n",
      "c    2.0\n",
      "d    3.0\n",
      "e    3.0\n",
      "dtype: float64\n",
      "\n",
      "#data.fillna(method='ffill', axis=1):\n",
      "      0    1    2    3\n",
      "0  1.0  1.0  2.0  2.0\n",
      "1  2.0  3.0  5.0  5.0\n",
      "2  NaN  4.0  6.0  6.0\n"
     ]
    }
   ],
   "source": [
    "#forward fill\n",
    "print(\"\\n#data.fillna(method='ffill'):\\n\", data.fillna(method='ffill'))\n",
    "#Backward fill\n",
    "print(\"\\n#data.fillna(method='bfill'):\\n\", data.fillna(method='bfill'))\n",
    "print(\"\\n#data.fillna(method='ffill', axis=1):\\n\", df.fillna(method='ffill', axis=1))"
   ]
  },
  {
   "cell_type": "markdown",
   "metadata": {},
   "source": [
    "# Hierarchical Indexing\n",
    "## Multiple Indexed Series"
   ]
  },
  {
   "cell_type": "code",
   "execution_count": 73,
   "metadata": {},
   "outputs": [
    {
     "name": "stdout",
     "output_type": "stream",
     "text": [
      "#pop:\n",
      " (california, 2000)    33871648\n",
      "(california, 2010)    37253956\n",
      "(New York, 2000)      18976457\n",
      "(New York, 2010)      19378102\n",
      "(Texas, 2000)         20851820\n",
      "(Texas, 2010)         25145561\n",
      "dtype: int64\n",
      "\n",
      "#pop of limited range:\n",
      " (New York, 2000)    18976457\n",
      "(New York, 2010)    19378102\n",
      "(Texas, 2000)       20851820\n",
      "(Texas, 2010)       25145561\n",
      "dtype: int64\n"
     ]
    }
   ],
   "source": [
    "#Using Python Tuples as Keys\n",
    "index= [('california', 2000), ('california', 2010),\n",
    "        ('New York', 2000), ('New York', 2010),\n",
    "        ('Texas', 2000), ('Texas', 2010)]\n",
    "population=[33871648, 37253956,\n",
    "            18976457, 19378102,\n",
    "            20851820, 25145561]\n",
    "pop=pd.Series(population, index=index)\n",
    "print(\"#pop:\\n\", pop)\n",
    "print(\"\\n#pop of limited range:\\n\", pop[('New York', 2000):('Texas', 2010)])\n",
    "\n"
   ]
  },
  {
   "cell_type": "code",
   "execution_count": 77,
   "metadata": {},
   "outputs": [
    {
     "name": "stdout",
     "output_type": "stream",
     "text": [
      "#index:\n",
      " MultiIndex([('california', 2000),\n",
      "            ('california', 2010),\n",
      "            (  'New York', 2000),\n",
      "            (  'New York', 2010),\n",
      "            (     'Texas', 2000),\n",
      "            (     'Texas', 2010)],\n",
      "           )\n"
     ]
    }
   ],
   "source": [
    "#Converting python tuple multi-index into pandas multi-index\n",
    "index=pd.MultiIndex.from_tuples(index)\n",
    "print(\"#index:\\n\", index)\n",
    "pop=pop.reindex(index)\n"
   ]
  },
  {
   "cell_type": "code",
   "execution_count": 87,
   "metadata": {},
   "outputs": [
    {
     "name": "stdout",
     "output_type": "stream",
     "text": [
      "\n",
      "#pop :\n",
      " california  2000    33871648\n",
      "            2010    37253956\n",
      "New York    2000    18976457\n",
      "            2010    19378102\n",
      "Texas       2000    20851820\n",
      "            2010    25145561\n",
      "dtype: int64\n"
     ]
    },
    {
     "ename": "UnsortedIndexError",
     "evalue": "'Key length (1) was greater than MultiIndex lexsort depth (0)'",
     "output_type": "error",
     "traceback": [
      "\u001b[1;31m---------------------------------------------------------------------------\u001b[0m",
      "\u001b[1;31mUnsortedIndexError\u001b[0m                        Traceback (most recent call last)",
      "\u001b[1;32mc:\\Users\\hsian\\Documents\\GitHub\\python\\中山程設作業python\\Pandas_Learning.ipynb Cell 53\u001b[0m in \u001b[0;36m<cell line: 2>\u001b[1;34m()\u001b[0m\n\u001b[0;32m      <a href='vscode-notebook-cell:/c%3A/Users/hsian/Documents/GitHub/python/%E4%B8%AD%E5%B1%B1%E7%A8%8B%E8%A8%AD%E4%BD%9C%E6%A5%ADpython/Pandas_Learning.ipynb#Y104sZmlsZQ%3D%3D?line=0'>1</a>\u001b[0m \u001b[39mprint\u001b[39m(\u001b[39m\"\u001b[39m\u001b[39m\\n\u001b[39;00m\u001b[39m#pop :\u001b[39m\u001b[39m\\n\u001b[39;00m\u001b[39m\"\u001b[39m, pop)\n\u001b[1;32m----> <a href='vscode-notebook-cell:/c%3A/Users/hsian/Documents/GitHub/python/%E4%B8%AD%E5%B1%B1%E7%A8%8B%E8%A8%AD%E4%BD%9C%E6%A5%ADpython/Pandas_Learning.ipynb#Y104sZmlsZQ%3D%3D?line=1'>2</a>\u001b[0m \u001b[39mprint\u001b[39m(pop[:\u001b[39m'\u001b[39;49m\u001b[39mTexas\u001b[39;49m\u001b[39m'\u001b[39;49m])\n\u001b[0;32m      <a href='vscode-notebook-cell:/c%3A/Users/hsian/Documents/GitHub/python/%E4%B8%AD%E5%B1%B1%E7%A8%8B%E8%A8%AD%E4%BD%9C%E6%A5%ADpython/Pandas_Learning.ipynb#Y104sZmlsZQ%3D%3D?line=3'>4</a>\u001b[0m \u001b[39mprint\u001b[39m(pop[:, \u001b[39m2000\u001b[39m])\n",
      "File \u001b[1;32mc:\\Users\\hsian\\AppData\\Local\\Programs\\Python\\Python310\\lib\\site-packages\\pandas\\core\\series.py:984\u001b[0m, in \u001b[0;36mSeries.__getitem__\u001b[1;34m(self, key)\u001b[0m\n\u001b[0;32m    981\u001b[0m     key \u001b[39m=\u001b[39m np\u001b[39m.\u001b[39masarray(key, dtype\u001b[39m=\u001b[39m\u001b[39mbool\u001b[39m)\n\u001b[0;32m    982\u001b[0m     \u001b[39mreturn\u001b[39;00m \u001b[39mself\u001b[39m\u001b[39m.\u001b[39m_get_values(key)\n\u001b[1;32m--> 984\u001b[0m \u001b[39mreturn\u001b[39;00m \u001b[39mself\u001b[39;49m\u001b[39m.\u001b[39;49m_get_with(key)\n",
      "File \u001b[1;32mc:\\Users\\hsian\\AppData\\Local\\Programs\\Python\\Python310\\lib\\site-packages\\pandas\\core\\series.py:991\u001b[0m, in \u001b[0;36mSeries._get_with\u001b[1;34m(self, key)\u001b[0m\n\u001b[0;32m    986\u001b[0m \u001b[39mdef\u001b[39;00m \u001b[39m_get_with\u001b[39m(\u001b[39mself\u001b[39m, key):\n\u001b[0;32m    987\u001b[0m     \u001b[39m# other: fancy integer or otherwise\u001b[39;00m\n\u001b[0;32m    988\u001b[0m     \u001b[39mif\u001b[39;00m \u001b[39misinstance\u001b[39m(key, \u001b[39mslice\u001b[39m):\n\u001b[0;32m    989\u001b[0m         \u001b[39m# _convert_slice_indexer to determine if this slice is positional\u001b[39;00m\n\u001b[0;32m    990\u001b[0m         \u001b[39m#  or label based, and if the latter, convert to positional\u001b[39;00m\n\u001b[1;32m--> 991\u001b[0m         slobj \u001b[39m=\u001b[39m \u001b[39mself\u001b[39;49m\u001b[39m.\u001b[39;49mindex\u001b[39m.\u001b[39;49m_convert_slice_indexer(key, kind\u001b[39m=\u001b[39;49m\u001b[39m\"\u001b[39;49m\u001b[39mgetitem\u001b[39;49m\u001b[39m\"\u001b[39;49m)\n\u001b[0;32m    992\u001b[0m         \u001b[39mreturn\u001b[39;00m \u001b[39mself\u001b[39m\u001b[39m.\u001b[39m_slice(slobj)\n\u001b[0;32m    993\u001b[0m     \u001b[39melif\u001b[39;00m \u001b[39misinstance\u001b[39m(key, ABCDataFrame):\n",
      "File \u001b[1;32mc:\\Users\\hsian\\AppData\\Local\\Programs\\Python\\Python310\\lib\\site-packages\\pandas\\core\\indexes\\base.py:4075\u001b[0m, in \u001b[0;36mIndex._convert_slice_indexer\u001b[1;34m(self, key, kind)\u001b[0m\n\u001b[0;32m   4073\u001b[0m     indexer \u001b[39m=\u001b[39m key\n\u001b[0;32m   4074\u001b[0m \u001b[39melse\u001b[39;00m:\n\u001b[1;32m-> 4075\u001b[0m     indexer \u001b[39m=\u001b[39m \u001b[39mself\u001b[39;49m\u001b[39m.\u001b[39;49mslice_indexer(start, stop, step)\n\u001b[0;32m   4077\u001b[0m \u001b[39mreturn\u001b[39;00m indexer\n",
      "File \u001b[1;32mc:\\Users\\hsian\\AppData\\Local\\Programs\\Python\\Python310\\lib\\site-packages\\pandas\\core\\indexes\\base.py:6274\u001b[0m, in \u001b[0;36mIndex.slice_indexer\u001b[1;34m(self, start, end, step, kind)\u001b[0m\n\u001b[0;32m   6231\u001b[0m \u001b[39m\"\"\"\u001b[39;00m\n\u001b[0;32m   6232\u001b[0m \u001b[39mCompute the slice indexer for input labels and step.\u001b[39;00m\n\u001b[0;32m   6233\u001b[0m \n\u001b[1;32m   (...)\u001b[0m\n\u001b[0;32m   6270\u001b[0m \u001b[39mslice(1, 3, None)\u001b[39;00m\n\u001b[0;32m   6271\u001b[0m \u001b[39m\"\"\"\u001b[39;00m\n\u001b[0;32m   6272\u001b[0m \u001b[39mself\u001b[39m\u001b[39m.\u001b[39m_deprecated_arg(kind, \u001b[39m\"\u001b[39m\u001b[39mkind\u001b[39m\u001b[39m\"\u001b[39m, \u001b[39m\"\u001b[39m\u001b[39mslice_indexer\u001b[39m\u001b[39m\"\u001b[39m)\n\u001b[1;32m-> 6274\u001b[0m start_slice, end_slice \u001b[39m=\u001b[39m \u001b[39mself\u001b[39;49m\u001b[39m.\u001b[39;49mslice_locs(start, end, step\u001b[39m=\u001b[39;49mstep)\n\u001b[0;32m   6276\u001b[0m \u001b[39m# return a slice\u001b[39;00m\n\u001b[0;32m   6277\u001b[0m \u001b[39mif\u001b[39;00m \u001b[39mnot\u001b[39;00m is_scalar(start_slice):\n",
      "File \u001b[1;32mc:\\Users\\hsian\\AppData\\Local\\Programs\\Python\\Python310\\lib\\site-packages\\pandas\\core\\indexes\\multi.py:2736\u001b[0m, in \u001b[0;36mMultiIndex.slice_locs\u001b[1;34m(self, start, end, step, kind)\u001b[0m\n\u001b[0;32m   2733\u001b[0m \u001b[39mself\u001b[39m\u001b[39m.\u001b[39m_deprecated_arg(kind, \u001b[39m\"\u001b[39m\u001b[39mkind\u001b[39m\u001b[39m\"\u001b[39m, \u001b[39m\"\u001b[39m\u001b[39mslice_locs\u001b[39m\u001b[39m\"\u001b[39m)\n\u001b[0;32m   2734\u001b[0m \u001b[39m# This function adds nothing to its parent implementation (the magic\u001b[39;00m\n\u001b[0;32m   2735\u001b[0m \u001b[39m# happens in get_slice_bound method), but it adds meaningful doc.\u001b[39;00m\n\u001b[1;32m-> 2736\u001b[0m \u001b[39mreturn\u001b[39;00m \u001b[39msuper\u001b[39;49m()\u001b[39m.\u001b[39;49mslice_locs(start, end, step)\n",
      "File \u001b[1;32mc:\\Users\\hsian\\AppData\\Local\\Programs\\Python\\Python310\\lib\\site-packages\\pandas\\core\\indexes\\base.py:6490\u001b[0m, in \u001b[0;36mIndex.slice_locs\u001b[1;34m(self, start, end, step, kind)\u001b[0m\n\u001b[0;32m   6488\u001b[0m end_slice \u001b[39m=\u001b[39m \u001b[39mNone\u001b[39;00m\n\u001b[0;32m   6489\u001b[0m \u001b[39mif\u001b[39;00m end \u001b[39mis\u001b[39;00m \u001b[39mnot\u001b[39;00m \u001b[39mNone\u001b[39;00m:\n\u001b[1;32m-> 6490\u001b[0m     end_slice \u001b[39m=\u001b[39m \u001b[39mself\u001b[39;49m\u001b[39m.\u001b[39;49mget_slice_bound(end, \u001b[39m\"\u001b[39;49m\u001b[39mright\u001b[39;49m\u001b[39m\"\u001b[39;49m)\n\u001b[0;32m   6491\u001b[0m \u001b[39mif\u001b[39;00m end_slice \u001b[39mis\u001b[39;00m \u001b[39mNone\u001b[39;00m:\n\u001b[0;32m   6492\u001b[0m     end_slice \u001b[39m=\u001b[39m \u001b[39mlen\u001b[39m(\u001b[39mself\u001b[39m)\n",
      "File \u001b[1;32mc:\\Users\\hsian\\AppData\\Local\\Programs\\Python\\Python310\\lib\\site-packages\\pandas\\core\\indexes\\multi.py:2675\u001b[0m, in \u001b[0;36mMultiIndex.get_slice_bound\u001b[1;34m(self, label, side, kind)\u001b[0m\n\u001b[0;32m   2673\u001b[0m \u001b[39mif\u001b[39;00m \u001b[39mnot\u001b[39;00m \u001b[39misinstance\u001b[39m(label, \u001b[39mtuple\u001b[39m):\n\u001b[0;32m   2674\u001b[0m     label \u001b[39m=\u001b[39m (label,)\n\u001b[1;32m-> 2675\u001b[0m \u001b[39mreturn\u001b[39;00m \u001b[39mself\u001b[39;49m\u001b[39m.\u001b[39;49m_partial_tup_index(label, side\u001b[39m=\u001b[39;49mside)\n",
      "File \u001b[1;32mc:\\Users\\hsian\\AppData\\Local\\Programs\\Python\\Python310\\lib\\site-packages\\pandas\\core\\indexes\\multi.py:2740\u001b[0m, in \u001b[0;36mMultiIndex._partial_tup_index\u001b[1;34m(self, tup, side)\u001b[0m\n\u001b[0;32m   2738\u001b[0m \u001b[39mdef\u001b[39;00m \u001b[39m_partial_tup_index\u001b[39m(\u001b[39mself\u001b[39m, tup: \u001b[39mtuple\u001b[39m, side\u001b[39m=\u001b[39m\u001b[39m\"\u001b[39m\u001b[39mleft\u001b[39m\u001b[39m\"\u001b[39m):\n\u001b[0;32m   2739\u001b[0m     \u001b[39mif\u001b[39;00m \u001b[39mlen\u001b[39m(tup) \u001b[39m>\u001b[39m \u001b[39mself\u001b[39m\u001b[39m.\u001b[39m_lexsort_depth:\n\u001b[1;32m-> 2740\u001b[0m         \u001b[39mraise\u001b[39;00m UnsortedIndexError(\n\u001b[0;32m   2741\u001b[0m             \u001b[39mf\u001b[39m\u001b[39m\"\u001b[39m\u001b[39mKey length (\u001b[39m\u001b[39m{\u001b[39;00m\u001b[39mlen\u001b[39m(tup)\u001b[39m}\u001b[39;00m\u001b[39m) was greater than MultiIndex lexsort depth \u001b[39m\u001b[39m\"\u001b[39m\n\u001b[0;32m   2742\u001b[0m             \u001b[39mf\u001b[39m\u001b[39m\"\u001b[39m\u001b[39m(\u001b[39m\u001b[39m{\u001b[39;00m\u001b[39mself\u001b[39m\u001b[39m.\u001b[39m_lexsort_depth\u001b[39m}\u001b[39;00m\u001b[39m)\u001b[39m\u001b[39m\"\u001b[39m\n\u001b[0;32m   2743\u001b[0m         )\n\u001b[0;32m   2745\u001b[0m     n \u001b[39m=\u001b[39m \u001b[39mlen\u001b[39m(tup)\n\u001b[0;32m   2746\u001b[0m     start, end \u001b[39m=\u001b[39m \u001b[39m0\u001b[39m, \u001b[39mlen\u001b[39m(\u001b[39mself\u001b[39m)\n",
      "\u001b[1;31mUnsortedIndexError\u001b[0m: 'Key length (1) was greater than MultiIndex lexsort depth (0)'"
     ]
    }
   ],
   "source": [
    "print(\"\\n#pop :\\n\", pop)\n",
    "print(pop['New York':'Texas'])\n",
    "#誤誤誤\n",
    "print(pop[:, 2000])"
   ]
  },
  {
   "cell_type": "code",
   "execution_count": 79,
   "metadata": {},
   "outputs": [
    {
     "name": "stdout",
     "output_type": "stream",
     "text": [
      "                2000      2010\n",
      "New York    18976457  19378102\n",
      "Texas       20851820  25145561\n",
      "california  33871648  37253956\n"
     ]
    }
   ],
   "source": [
    "#Converting Multi-index series into indexed dataframe using unstack()\n",
    "pop_df=pop.unstack()\n",
    "print(pop_df)"
   ]
  },
  {
   "cell_type": "code",
   "execution_count": 80,
   "metadata": {},
   "outputs": [
    {
     "name": "stdout",
     "output_type": "stream",
     "text": [
      "                    total  under18\n",
      "california 2000  33871648  9267089\n",
      "           2010  37253956  9284094\n",
      "New York   2000  18976457  4687371\n",
      "           2010  19378102  4318033\n",
      "Texas      2000  20851820  4506301\n",
      "           2010  25145561  6879014\n"
     ]
    }
   ],
   "source": [
    "# What if we want to add another column of demographic dta (under 18)\n",
    "pop_df=pd.DataFrame({'total':pop, \n",
    "                    'under18':[9267089, 9284094,\n",
    "                                4687371, 4318033,\n",
    "                                4506301, 6879014]})\n",
    "print(pop_df)"
   ]
  },
  {
   "cell_type": "code",
   "execution_count": 84,
   "metadata": {},
   "outputs": [
    {
     "name": "stdout",
     "output_type": "stream",
     "text": [
      "                2000      2010\n",
      "New York    0.247010  0.222831\n",
      "Texas       0.216111  0.273568\n",
      "california  0.273594  0.249211\n"
     ]
    }
   ],
   "source": [
    "f_u18=pop_df['under18']/pop_df['total']\n",
    "print(f_u18.unstack())"
   ]
  },
  {
   "cell_type": "markdown",
   "metadata": {},
   "source": [
    "# Method of MultiIndex Creation\n",
    "- List\n",
    "- Dictionary\n",
    "- Multi-index constructors"
   ]
  },
  {
   "cell_type": "markdown",
   "metadata": {},
   "source": [
    "## Creating multi-index by List"
   ]
  },
  {
   "cell_type": "code",
   "execution_count": 88,
   "metadata": {},
   "outputs": [
    {
     "name": "stdout",
     "output_type": "stream",
     "text": [
      "        data1     data2\n",
      "a 1  0.807510  0.856993\n",
      "  2  0.521667  0.962260\n",
      "b 1  0.412672  0.981711\n",
      "  2  0.761502  0.394684\n"
     ]
    }
   ],
   "source": [
    "df=pd.DataFrame(np.random.rand(4, 2),\n",
    "                index=[['a','a', 'b', 'b'], [1, 2, 1, 2]],\n",
    "                columns=['data1', 'data2'])\n",
    "print(df)"
   ]
  },
  {
   "cell_type": "code",
   "execution_count": 91,
   "metadata": {},
   "outputs": [
    {
     "name": "stdout",
     "output_type": "stream",
     "text": [
      "{('california', 2000): 33871648, ('california', 2010): 37253956, ('New York', 2000): 18976457, ('New York', 2010): 19378102, ('Texas', 2000): 20851820, ('Texas', 2010): 25145561}\n",
      "california  2000    33871648\n",
      "            2010    37253956\n",
      "New York    2000    18976457\n",
      "            2010    19378102\n",
      "Texas       2000    20851820\n",
      "            2010    25145561\n",
      "dtype: int64\n"
     ]
    }
   ],
   "source": [
    "data={('california', 2000):33871648,\n",
    "        ('california', 2010):37253956,\n",
    "        (  'New York', 2000):18976457,\n",
    "        (  'New York', 2010):19378102,\n",
    "        (     'Texas', 2000):20851820,\n",
    "        (     'Texas', 2010):25145561}\n",
    "print(data)\n",
    "print(pd.Series(data))"
   ]
  },
  {
   "cell_type": "markdown",
   "metadata": {},
   "source": [
    "## Explicit Multi-index Constructor"
   ]
  },
  {
   "cell_type": "code",
   "execution_count": 93,
   "metadata": {},
   "outputs": [
    {
     "name": "stdout",
     "output_type": "stream",
     "text": [
      "MultiIndex([('a', 1),\n",
      "            ('a', 2),\n",
      "            ('b', 1),\n",
      "            ('b', 2)],\n",
      "           )\n",
      "MultiIndex([('a', 1),\n",
      "            ('a', 2),\n",
      "            ('b', 1),\n",
      "            ('b', 2)],\n",
      "           )\n",
      "MultiIndex([('a', 1),\n",
      "            ('a', 2),\n",
      "            ('b', 1),\n",
      "            ('b', 2)],\n",
      "           )\n"
     ]
    }
   ],
   "source": [
    "#from the list of arrays\n",
    "print(pd.MultiIndex.from_arrays([['a', 'a', 'b', 'b'], [1, 2, 1, 2]]))\n",
    "#from the list of tuples\n",
    "print(pd.MultiIndex.from_tuples([('a', 1), ('a', 2), ('b', 1), ('b', 2)]))\n",
    "#From a cartesian product of single series\n",
    "print(pd.MultiIndex.from_product([['a', 'b'],[1, 2]]))"
   ]
  },
  {
   "cell_type": "markdown",
   "metadata": {},
   "source": [
    "## MultiIndex level names"
   ]
  },
  {
   "cell_type": "code",
   "execution_count": 95,
   "metadata": {},
   "outputs": [
    {
     "name": "stdout",
     "output_type": "stream",
     "text": [
      "california  2000    33871648\n",
      "            2010    37253956\n",
      "New York    2000    18976457\n",
      "            2010    19378102\n",
      "Texas       2000    20851820\n",
      "            2010    25145561\n",
      "dtype: int64\n",
      "state       year\n",
      "california  2000    33871648\n",
      "            2010    37253956\n",
      "New York    2000    18976457\n",
      "            2010    19378102\n",
      "Texas       2000    20851820\n",
      "            2010    25145561\n",
      "dtype: int64\n"
     ]
    }
   ],
   "source": [
    "print(pop)\n",
    "pop.index.names=['state', 'year']\n",
    "print(pop)"
   ]
  },
  {
   "cell_type": "markdown",
   "metadata": {},
   "source": [
    "## MultiIndex for Columns"
   ]
  },
  {
   "cell_type": "code",
   "execution_count": 99,
   "metadata": {},
   "outputs": [
    {
     "name": "stdout",
     "output_type": "stream",
     "text": [
      "#original data:\n",
      " [[-0.4 -1.3  0.3  0.3 -1.8 -0.1]\n",
      " [-0.7  0.6 -1.1  0.8  0.5  0.1]\n",
      " [ 0.8  1.7  1.4  1.4  0.1 -0.1]\n",
      " [-0.5  0.6  0.8  0.2 -0.6  0.3]]\n",
      "\n",
      "#data[:, ::2]*=10:\n",
      " [[ -4.   -1.3   3.    0.3 -18.   -0.1]\n",
      " [ -7.    0.6 -11.    0.8   5.    0.1]\n",
      " [  8.    1.7  14.    1.4   1.   -0.1]\n",
      " [ -5.    0.6   8.    0.2  -6.    0.3]]\n",
      "\n",
      "#data+=37:\n",
      " [[33.  35.7 40.  37.3 19.  36.9]\n",
      " [30.  37.6 26.  37.8 42.  37.1]\n",
      " [45.  38.7 51.  38.4 38.  36.9]\n",
      " [32.  37.6 45.  37.2 31.  37.3]]\n",
      "\n",
      "#abs(data):\n",
      " [[33.  35.7 40.  37.3 19.  36.9]\n",
      " [30.  37.6 26.  37.8 42.  37.1]\n",
      " [45.  38.7 51.  38.4 38.  36.9]\n",
      " [32.  37.6 45.  37.2 31.  37.3]]\n"
     ]
    }
   ],
   "source": [
    "#Creating medical data\n",
    "#Hierarchical indices and columns\n",
    "index=pd.MultiIndex.from_product([[2013, 2014],[1,2]], \n",
    "                                names=['year', 'visit'])\n",
    "columns=pd.MultiIndex.from_product([['Bob', 'Guido', 'Sue'],\n",
    "                                    ['Heart_Rate', 'Temperature']],\n",
    "                                    names=['patient', 'measurement'])\n",
    "#Create  some data\n",
    "data=np.round(np.random.randn(4, 6), 1) #round of 1\n",
    "print(\"#original data:\\n\", data)\n",
    "data[:, ::2]*=10\n",
    "print(\"\\n#data[:, ::2]*=10:\\n\", data)\n",
    "data+=37\n",
    "print(\"\\n#data+=37:\\n\", data)\n",
    "print(\"\\n#abs(data):\\n\", abs(data))\n"
   ]
  },
  {
   "cell_type": "code",
   "execution_count": 101,
   "metadata": {},
   "outputs": [
    {
     "data": {
      "text/html": [
       "<div>\n",
       "<style scoped>\n",
       "    .dataframe tbody tr th:only-of-type {\n",
       "        vertical-align: middle;\n",
       "    }\n",
       "\n",
       "    .dataframe tbody tr th {\n",
       "        vertical-align: top;\n",
       "    }\n",
       "\n",
       "    .dataframe thead tr th {\n",
       "        text-align: left;\n",
       "    }\n",
       "\n",
       "    .dataframe thead tr:last-of-type th {\n",
       "        text-align: right;\n",
       "    }\n",
       "</style>\n",
       "<table border=\"1\" class=\"dataframe\">\n",
       "  <thead>\n",
       "    <tr>\n",
       "      <th></th>\n",
       "      <th>patient</th>\n",
       "      <th colspan=\"2\" halign=\"left\">Bob</th>\n",
       "      <th colspan=\"2\" halign=\"left\">Guido</th>\n",
       "      <th colspan=\"2\" halign=\"left\">Sue</th>\n",
       "    </tr>\n",
       "    <tr>\n",
       "      <th></th>\n",
       "      <th>measurement</th>\n",
       "      <th>Heart_Rate</th>\n",
       "      <th>Temperature</th>\n",
       "      <th>Heart_Rate</th>\n",
       "      <th>Temperature</th>\n",
       "      <th>Heart_Rate</th>\n",
       "      <th>Temperature</th>\n",
       "    </tr>\n",
       "    <tr>\n",
       "      <th>year</th>\n",
       "      <th>visit</th>\n",
       "      <th></th>\n",
       "      <th></th>\n",
       "      <th></th>\n",
       "      <th></th>\n",
       "      <th></th>\n",
       "      <th></th>\n",
       "    </tr>\n",
       "  </thead>\n",
       "  <tbody>\n",
       "    <tr>\n",
       "      <th rowspan=\"2\" valign=\"top\">2013</th>\n",
       "      <th>1</th>\n",
       "      <td>33.0</td>\n",
       "      <td>35.7</td>\n",
       "      <td>40.0</td>\n",
       "      <td>37.3</td>\n",
       "      <td>19.0</td>\n",
       "      <td>36.9</td>\n",
       "    </tr>\n",
       "    <tr>\n",
       "      <th>2</th>\n",
       "      <td>30.0</td>\n",
       "      <td>37.6</td>\n",
       "      <td>26.0</td>\n",
       "      <td>37.8</td>\n",
       "      <td>42.0</td>\n",
       "      <td>37.1</td>\n",
       "    </tr>\n",
       "    <tr>\n",
       "      <th rowspan=\"2\" valign=\"top\">2014</th>\n",
       "      <th>1</th>\n",
       "      <td>45.0</td>\n",
       "      <td>38.7</td>\n",
       "      <td>51.0</td>\n",
       "      <td>38.4</td>\n",
       "      <td>38.0</td>\n",
       "      <td>36.9</td>\n",
       "    </tr>\n",
       "    <tr>\n",
       "      <th>2</th>\n",
       "      <td>32.0</td>\n",
       "      <td>37.6</td>\n",
       "      <td>45.0</td>\n",
       "      <td>37.2</td>\n",
       "      <td>31.0</td>\n",
       "      <td>37.3</td>\n",
       "    </tr>\n",
       "  </tbody>\n",
       "</table>\n",
       "</div>"
      ],
      "text/plain": [
       "patient            Bob                  Guido                    Sue  \\\n",
       "measurement Heart_Rate Temperature Heart_Rate Temperature Heart_Rate   \n",
       "year visit                                                             \n",
       "2013 1            33.0        35.7       40.0        37.3       19.0   \n",
       "     2            30.0        37.6       26.0        37.8       42.0   \n",
       "2014 1            45.0        38.7       51.0        38.4       38.0   \n",
       "     2            32.0        37.6       45.0        37.2       31.0   \n",
       "\n",
       "patient                  \n",
       "measurement Temperature  \n",
       "year visit               \n",
       "2013 1             36.9  \n",
       "     2             37.1  \n",
       "2014 1             36.9  \n",
       "     2             37.3  "
      ]
     },
     "execution_count": 101,
     "metadata": {},
     "output_type": "execute_result"
    }
   ],
   "source": [
    "#Create the DataFrame \n",
    "health_data=pd.DataFrame(data, index=index, columns=columns)\n",
    "health_data"
   ]
  },
  {
   "cell_type": "code",
   "execution_count": 102,
   "metadata": {},
   "outputs": [
    {
     "data": {
      "text/html": [
       "<div>\n",
       "<style scoped>\n",
       "    .dataframe tbody tr th:only-of-type {\n",
       "        vertical-align: middle;\n",
       "    }\n",
       "\n",
       "    .dataframe tbody tr th {\n",
       "        vertical-align: top;\n",
       "    }\n",
       "\n",
       "    .dataframe thead th {\n",
       "        text-align: right;\n",
       "    }\n",
       "</style>\n",
       "<table border=\"1\" class=\"dataframe\">\n",
       "  <thead>\n",
       "    <tr style=\"text-align: right;\">\n",
       "      <th></th>\n",
       "      <th>measurement</th>\n",
       "      <th>Heart_Rate</th>\n",
       "      <th>Temperature</th>\n",
       "    </tr>\n",
       "    <tr>\n",
       "      <th>year</th>\n",
       "      <th>visit</th>\n",
       "      <th></th>\n",
       "      <th></th>\n",
       "    </tr>\n",
       "  </thead>\n",
       "  <tbody>\n",
       "    <tr>\n",
       "      <th rowspan=\"2\" valign=\"top\">2013</th>\n",
       "      <th>1</th>\n",
       "      <td>40.0</td>\n",
       "      <td>37.3</td>\n",
       "    </tr>\n",
       "    <tr>\n",
       "      <th>2</th>\n",
       "      <td>26.0</td>\n",
       "      <td>37.8</td>\n",
       "    </tr>\n",
       "    <tr>\n",
       "      <th rowspan=\"2\" valign=\"top\">2014</th>\n",
       "      <th>1</th>\n",
       "      <td>51.0</td>\n",
       "      <td>38.4</td>\n",
       "    </tr>\n",
       "    <tr>\n",
       "      <th>2</th>\n",
       "      <td>45.0</td>\n",
       "      <td>37.2</td>\n",
       "    </tr>\n",
       "  </tbody>\n",
       "</table>\n",
       "</div>"
      ],
      "text/plain": [
       "measurement  Heart_Rate  Temperature\n",
       "year visit                          \n",
       "2013 1             40.0         37.3\n",
       "     2             26.0         37.8\n",
       "2014 1             51.0         38.4\n",
       "     2             45.0         37.2"
      ]
     },
     "execution_count": 102,
     "metadata": {},
     "output_type": "execute_result"
    }
   ],
   "source": [
    "#Access the data of a person\n",
    "health_data['Guido']"
   ]
  },
  {
   "cell_type": "code",
   "execution_count": 103,
   "metadata": {},
   "outputs": [
    {
     "data": {
      "text/html": [
       "<div>\n",
       "<style scoped>\n",
       "    .dataframe tbody tr th:only-of-type {\n",
       "        vertical-align: middle;\n",
       "    }\n",
       "\n",
       "    .dataframe tbody tr th {\n",
       "        vertical-align: top;\n",
       "    }\n",
       "\n",
       "    .dataframe thead th {\n",
       "        text-align: right;\n",
       "    }\n",
       "</style>\n",
       "<table border=\"1\" class=\"dataframe\">\n",
       "  <thead>\n",
       "    <tr style=\"text-align: right;\">\n",
       "      <th>measurement</th>\n",
       "      <th>Heart_Rate</th>\n",
       "      <th>Temperature</th>\n",
       "    </tr>\n",
       "    <tr>\n",
       "      <th>visit</th>\n",
       "      <th></th>\n",
       "      <th></th>\n",
       "    </tr>\n",
       "  </thead>\n",
       "  <tbody>\n",
       "    <tr>\n",
       "      <th>1</th>\n",
       "      <td>40.0</td>\n",
       "      <td>37.3</td>\n",
       "    </tr>\n",
       "    <tr>\n",
       "      <th>2</th>\n",
       "      <td>26.0</td>\n",
       "      <td>37.8</td>\n",
       "    </tr>\n",
       "  </tbody>\n",
       "</table>\n",
       "</div>"
      ],
      "text/plain": [
       "measurement  Heart_Rate  Temperature\n",
       "visit                               \n",
       "1                  40.0         37.3\n",
       "2                  26.0         37.8"
      ]
     },
     "execution_count": 103,
     "metadata": {},
     "output_type": "execute_result"
    }
   ],
   "source": [
    "#Access the data of a person from a particular year\n",
    "health_data.loc[2013, 'Guido']"
   ]
  },
  {
   "cell_type": "code",
   "execution_count": 108,
   "metadata": {},
   "outputs": [
    {
     "name": "stdout",
     "output_type": "stream",
     "text": [
      "year  visit\n",
      "2013  1        40.0\n",
      "      2        26.0\n",
      "2014  1        51.0\n",
      "      2        45.0\n",
      "Name: (Guido, Heart_Rate), dtype: float64\n",
      "patient            Bob                  Guido            \n",
      "measurement Heart_Rate Temperature Heart_Rate Temperature\n",
      "year visit                                               \n",
      "2013 1            33.0        35.7       40.0        37.3\n",
      "     2            30.0        37.6       26.0        37.8\n",
      "year  visit\n",
      "2013  1        40.0\n",
      "      2        26.0\n",
      "2014  1        51.0\n",
      "      2        45.0\n",
      "Name: (Guido, Heart_Rate), dtype: float64\n"
     ]
    }
   ],
   "source": [
    "#Recover patient heart rate \n",
    "print(health_data['Guido', 'Heart_Rate'])\n",
    "#Access first two rows and first four columns\n",
    "print(health_data.iloc[:2, :4])\n",
    "#Recover patient heart rate of Guido using slicing\n",
    "print(health_data.loc[:, ('Guido', 'Heart_Rate')])\n"
   ]
  },
  {
   "cell_type": "code",
   "execution_count": 109,
   "metadata": {},
   "outputs": [
    {
     "ename": "SyntaxError",
     "evalue": "invalid syntax (3488508798.py, line 2)",
     "output_type": "error",
     "traceback": [
      "\u001b[1;36m  Input \u001b[1;32mIn [109]\u001b[1;36m\u001b[0m\n\u001b[1;33m    print(health_data.loc[(:, 1),(:, 'Heart_Rate')])\u001b[0m\n\u001b[1;37m                           ^\u001b[0m\n\u001b[1;31mSyntaxError\u001b[0m\u001b[1;31m:\u001b[0m invalid syntax\n"
     ]
    }
   ],
   "source": [
    "#Access the heart rate of all patients first visit using tuple of multiple indices\n",
    "print(health_data.loc[(:, 1),(:, 'Heart_Rate')])"
   ]
  },
  {
   "cell_type": "code",
   "execution_count": 114,
   "metadata": {},
   "outputs": [
    {
     "name": "stdout",
     "output_type": "stream",
     "text": [
      "patient            Bob      Guido        Sue\n",
      "measurement Heart_Rate Heart_Rate Heart_Rate\n",
      "year visit                                  \n",
      "2013 1            33.0       40.0       19.0\n",
      "2014 1            45.0       51.0       38.0\n",
      "45.0\n",
      "patient  measurement\n",
      "Bob      Heart_Rate     45.0\n",
      "         Temperature    38.7\n",
      "Sue      Heart_Rate     38.0\n",
      "         Temperature    36.9\n",
      "Name: (2014, 1), dtype: float64\n"
     ]
    }
   ],
   "source": [
    "# IndexSlice\n",
    "idx=pd.IndexSlice\n",
    "print(health_data.loc[idx[:, 1], idx[:, 'Heart_Rate']])\n",
    "#Access the heart rate of Bob's first visit in 2014 using IndexSlice\n",
    "print(health_data.loc[idx[2014, 1], idx['Bob', 'Heart_Rate']])\n",
    "#Access the heart rate and temperature of Bob and Sue's first visit in 2014 using IndexSlice\n",
    "print(health_data.loc[idx[2014, 1], idx[['Bob', 'Sue'], 'Heart_Rate':'Temperature']])\n"
   ]
  },
  {
   "cell_type": "markdown",
   "metadata": {},
   "source": [
    "## Data Aggregation \n"
   ]
  },
  {
   "cell_type": "code",
   "execution_count": 116,
   "metadata": {},
   "outputs": [
    {
     "name": "stderr",
     "output_type": "stream",
     "text": [
      "C:\\Users\\hsian\\AppData\\Local\\Temp\\ipykernel_17252\\752183661.py:2: FutureWarning: Using the level keyword in DataFrame and Series aggregations is deprecated and will be removed in a future version. Use groupby instead. df.median(level=1) should use df.groupby(level=1).median().\n",
      "  data_mean=health_data.mean(level='year')\n"
     ]
    },
    {
     "data": {
      "text/html": [
       "<div>\n",
       "<style scoped>\n",
       "    .dataframe tbody tr th:only-of-type {\n",
       "        vertical-align: middle;\n",
       "    }\n",
       "\n",
       "    .dataframe tbody tr th {\n",
       "        vertical-align: top;\n",
       "    }\n",
       "\n",
       "    .dataframe thead tr th {\n",
       "        text-align: left;\n",
       "    }\n",
       "\n",
       "    .dataframe thead tr:last-of-type th {\n",
       "        text-align: right;\n",
       "    }\n",
       "</style>\n",
       "<table border=\"1\" class=\"dataframe\">\n",
       "  <thead>\n",
       "    <tr>\n",
       "      <th>patient</th>\n",
       "      <th colspan=\"2\" halign=\"left\">Bob</th>\n",
       "      <th colspan=\"2\" halign=\"left\">Guido</th>\n",
       "      <th colspan=\"2\" halign=\"left\">Sue</th>\n",
       "    </tr>\n",
       "    <tr>\n",
       "      <th>measurement</th>\n",
       "      <th>Heart_Rate</th>\n",
       "      <th>Temperature</th>\n",
       "      <th>Heart_Rate</th>\n",
       "      <th>Temperature</th>\n",
       "      <th>Heart_Rate</th>\n",
       "      <th>Temperature</th>\n",
       "    </tr>\n",
       "    <tr>\n",
       "      <th>year</th>\n",
       "      <th></th>\n",
       "      <th></th>\n",
       "      <th></th>\n",
       "      <th></th>\n",
       "      <th></th>\n",
       "      <th></th>\n",
       "    </tr>\n",
       "  </thead>\n",
       "  <tbody>\n",
       "    <tr>\n",
       "      <th>2013</th>\n",
       "      <td>31.5</td>\n",
       "      <td>36.65</td>\n",
       "      <td>33.0</td>\n",
       "      <td>37.55</td>\n",
       "      <td>30.5</td>\n",
       "      <td>37.0</td>\n",
       "    </tr>\n",
       "    <tr>\n",
       "      <th>2014</th>\n",
       "      <td>38.5</td>\n",
       "      <td>38.15</td>\n",
       "      <td>48.0</td>\n",
       "      <td>37.80</td>\n",
       "      <td>34.5</td>\n",
       "      <td>37.1</td>\n",
       "    </tr>\n",
       "  </tbody>\n",
       "</table>\n",
       "</div>"
      ],
      "text/plain": [
       "patient            Bob                  Guido                    Sue  \\\n",
       "measurement Heart_Rate Temperature Heart_Rate Temperature Heart_Rate   \n",
       "year                                                                   \n",
       "2013              31.5       36.65       33.0       37.55       30.5   \n",
       "2014              38.5       38.15       48.0       37.80       34.5   \n",
       "\n",
       "patient                  \n",
       "measurement Temperature  \n",
       "year                     \n",
       "2013               37.0  \n",
       "2014               37.1  "
      ]
     },
     "execution_count": 116,
     "metadata": {},
     "output_type": "execute_result"
    }
   ],
   "source": [
    "#上面那一格: 缺缺缺\n",
    "#Average out the measurement in the two visits each year\n",
    "data_mean=health_data.mean(level='year') #row wise aggregation\n",
    "data_mean"
   ]
  },
  {
   "cell_type": "code",
   "execution_count": 117,
   "metadata": {},
   "outputs": [
    {
     "name": "stderr",
     "output_type": "stream",
     "text": [
      "C:\\Users\\hsian\\AppData\\Local\\Temp\\ipykernel_17252\\4139955395.py:1: FutureWarning: Using the level keyword in DataFrame and Series aggregations is deprecated and will be removed in a future version. Use groupby instead. df.median(level=1) should use df.groupby(level=1).median().\n",
      "  data_mean.mean(axis=1, level='measurement')\n"
     ]
    },
    {
     "data": {
      "text/html": [
       "<div>\n",
       "<style scoped>\n",
       "    .dataframe tbody tr th:only-of-type {\n",
       "        vertical-align: middle;\n",
       "    }\n",
       "\n",
       "    .dataframe tbody tr th {\n",
       "        vertical-align: top;\n",
       "    }\n",
       "\n",
       "    .dataframe thead th {\n",
       "        text-align: right;\n",
       "    }\n",
       "</style>\n",
       "<table border=\"1\" class=\"dataframe\">\n",
       "  <thead>\n",
       "    <tr style=\"text-align: right;\">\n",
       "      <th>measurement</th>\n",
       "      <th>Heart_Rate</th>\n",
       "      <th>Temperature</th>\n",
       "    </tr>\n",
       "    <tr>\n",
       "      <th>year</th>\n",
       "      <th></th>\n",
       "      <th></th>\n",
       "    </tr>\n",
       "  </thead>\n",
       "  <tbody>\n",
       "    <tr>\n",
       "      <th>2013</th>\n",
       "      <td>31.666667</td>\n",
       "      <td>37.066667</td>\n",
       "    </tr>\n",
       "    <tr>\n",
       "      <th>2014</th>\n",
       "      <td>40.333333</td>\n",
       "      <td>37.683333</td>\n",
       "    </tr>\n",
       "  </tbody>\n",
       "</table>\n",
       "</div>"
      ],
      "text/plain": [
       "measurement  Heart_Rate  Temperature\n",
       "year                                \n",
       "2013          31.666667    37.066667\n",
       "2014          40.333333    37.683333"
      ]
     },
     "execution_count": 117,
     "metadata": {},
     "output_type": "execute_result"
    }
   ],
   "source": [
    "data_mean.mean(axis=1, level='measurement')"
   ]
  },
  {
   "cell_type": "markdown",
   "metadata": {},
   "source": [
    "## Combining Datasets: Concatenate"
   ]
  },
  {
   "cell_type": "code",
   "execution_count": 120,
   "metadata": {},
   "outputs": [
    {
     "name": "stdout",
     "output_type": "stream",
     "text": [
      "[1 2 3 4 5 6 7 8 9]\n",
      "[[1 2 1 2]\n",
      " [3 4 3 4]]\n"
     ]
    }
   ],
   "source": [
    "# one dimesional array\n",
    "x=[1, 2, 3]\n",
    "y=[4, 5, 6]\n",
    "z=[7, 8, 9]\n",
    "print(np.concatenate([x, y, z]))\n",
    "#two dimentional array\n",
    "x=[[1, 2], [3, 4]]\n",
    "print(np.concatenate([x, x], axis=1))\n"
   ]
  },
  {
   "cell_type": "markdown",
   "metadata": {},
   "source": [
    "## Concatenation in Series and DataFrame\n",
    "- pd.concat()"
   ]
  },
  {
   "cell_type": "code",
   "execution_count": 125,
   "metadata": {},
   "outputs": [
    {
     "name": "stdout",
     "output_type": "stream",
     "text": [
      "#pd.concat([ser1, ser2])\n",
      " 1    A\n",
      "2    B\n",
      "3    C\n",
      "4    D\n",
      "5    E\n",
      "6    F\n",
      "dtype: object\n"
     ]
    }
   ],
   "source": [
    "ser1=pd.Series(['A', 'B', 'C'], index=[1, 2, 3])\n",
    "ser2=pd.Series(['D', 'E', 'F'], index=[4, 5, 6])\n",
    "print(\"#pd.concat([ser1, ser2])\\n\", pd.concat([ser1, ser2]))\n",
    "\n"
   ]
  },
  {
   "cell_type": "code",
   "execution_count": 126,
   "metadata": {},
   "outputs": [
    {
     "name": "stdout",
     "output_type": "stream",
     "text": [
      "\n",
      "#df1\n",
      "    a  b  c\n",
      "1  0  1  2\n",
      "2  3  4  5\n",
      "3  6  7  8\n",
      "\n",
      "#df2\n",
      "     a   b   c\n",
      "4   9  10  11\n",
      "5  12  13  14\n",
      "6  15  16  17\n",
      "\n",
      "#pd.concat([df1, df2])\n",
      "     a   b   c\n",
      "1   0   1   2\n",
      "2   3   4   5\n",
      "3   6   7   8\n",
      "4   9  10  11\n",
      "5  12  13  14\n",
      "6  15  16  17\n"
     ]
    }
   ],
   "source": [
    "#Create the Data for DataFrame\n",
    "df1=pd.DataFrame(np.arange(0, 9).reshape(3, 3), \n",
    "                index=[1, 2, 3],\n",
    "                columns=['a', 'b', 'c'])\n",
    "print(\"\\n#df1\\n\", df1)\n",
    "df2=pd.DataFrame(np.arange(9, 18).reshape(3, 3), \n",
    "                index=[4, 5, 6],\n",
    "                columns=['a', 'b', 'c'])\n",
    "print(\"\\n#df2\\n\", df2)\n",
    "\n",
    "#Combining two dataframe\n",
    "print(\"\\n#pd.concat([df1, df2])\\n\", pd.concat([df1, df2]))"
   ]
  },
  {
   "cell_type": "code",
   "execution_count": 129,
   "metadata": {},
   "outputs": [
    {
     "name": "stdout",
     "output_type": "stream",
     "text": [
      "#df3\n",
      "     d   e   f\n",
      "1  18  19  20\n",
      "2  21  22  23\n",
      "3  24  25  26\n",
      "\n",
      "#pd.concat([df1, df3], axis=1)\n",
      "    a  b  c   d   e   f\n",
      "1  0  1  2  18  19  20\n",
      "2  3  4  5  21  22  23\n",
      "3  6  7  8  24  25  26\n"
     ]
    }
   ],
   "source": [
    "df3=pd.DataFrame(np.arange(18, 27).reshape(3, 3), \n",
    "                index=[1, 2, 3],\n",
    "                columns=['d', 'e', 'f'])\n",
    "print(\"#df3\\n\", df3)\n",
    "#Combine two dataframe column wise\n",
    "print(\"\\n#pd.concat([df1, df3], axis=1)\\n\", pd.concat([df1, df3], axis=1))\n"
   ]
  }
 ],
 "metadata": {
  "interpreter": {
   "hash": "eb6335f86049935ab3a1e6168a640c161cd4c2d3c8bde3a37ebd86b9bd3e1c1e"
  },
  "kernelspec": {
   "display_name": "Python 3.10.2 64-bit",
   "language": "python",
   "name": "python3"
  },
  "language_info": {
   "codemirror_mode": {
    "name": "ipython",
    "version": 3
   },
   "file_extension": ".py",
   "mimetype": "text/x-python",
   "name": "python",
   "nbconvert_exporter": "python",
   "pygments_lexer": "ipython3",
   "version": "3.10.2"
  },
  "orig_nbformat": 4
 },
 "nbformat": 4,
 "nbformat_minor": 2
}
