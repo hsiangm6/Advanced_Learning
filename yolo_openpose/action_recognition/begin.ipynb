{
 "cells": [
  {
   "cell_type": "code",
   "execution_count": null,
   "id": "initial_id",
   "metadata": {
    "collapsed": true
   },
   "outputs": [],
   "source": [
    "# From Python\n",
    "# It requires OpenCV installed for Python\n",
    "import sys\n",
    "import cv2\n",
    "import os\n",
    "from sys import platform\n",
    "import argparse\n",
    "\n",
    "try:\n",
    "    # Import Openpose (Windows/Ubuntu/OSX)\n",
    "    dir_path = os.path.dirname(os.path.realpath(__file__))\n",
    "    try:\n",
    "        # Change these variables to point to the correct folder (Release/x64 etc.)\n",
    "        sys.path.append(dir_path + '/../bin/python/openpose/Release');\n",
    "        os.environ['PATH']  = os.environ['PATH'] + ';' + dir_path + '/../x64/Release;' +  dir_path + '/../bin;'\n",
    "        import pyopenpose as op\n",
    "    except ImportError as e:\n",
    "        print('Error: OpenPose library could not be found. Did you enable `BUILD_PYTHON` in CMake and have this Python script in the right folder?')\n",
    "        raise e\n",
    "\n",
    "    # Flags\n",
    "    parser = argparse.ArgumentParser()\n",
    "    parser.add_argument(\"--image_path\", default=\"../examples/media/COCO_val2014_000000000192.jpg\", help=\"Process an image. Read all standard formats (jpg, png, bmp, etc.).\")\n",
    "    args = parser.parse_known_args()\n",
    "\n",
    "    # Custom Params (refer to include/openpose/flags.hpp for more parameters)\n",
    "    params = dict()\n",
    "    params[\"model_folder\"] = \"../models/\"\n",
    "\n",
    "    # Add others in path?\n",
    "    for i in range(0, len(args[1])):\n",
    "        curr_item = args[1][i]\n",
    "        if i != len(args[1])-1: next_item = args[1][i+1]\n",
    "        else: next_item = \"1\"\n",
    "        if \"--\" in curr_item and \"--\" in next_item:\n",
    "            key = curr_item.replace('-','')\n",
    "            if key not in params:  params[key] = \"1\"\n",
    "        elif \"--\" in curr_item and \"--\" not in next_item:\n",
    "            key = curr_item.replace('-','')\n",
    "            if key not in params: params[key] = next_item\n",
    "\n",
    "    # Construct it from system arguments\n",
    "    # op.init_argv(args[1])\n",
    "    # oppython = op.OpenposePython()\n",
    "\n",
    "    # Starting OpenPose\n",
    "    opWrapper = op.WrapperPython()\n",
    "    opWrapper.configure(params)\n",
    "    opWrapper.start()\n",
    "\n",
    "    # Process Image\n",
    "    datum = op.Datum()\n",
    "    imageToProcess = cv2.imread(args[0].image_path)\n",
    "    datum.cvInputData = imageToProcess\n",
    "    opWrapper.emplaceAndPop(op.VectorDatum([datum]))\n",
    "\n",
    "    # Display Image\n",
    "    print(\"Body keypoints: \\n\" + str(datum.poseKeypoints))\n",
    "    cv2.imshow(\"OpenPose 1.7.0 - Tutorial Python API\", datum.cvOutputData)\n",
    "    cv2.waitKey(0)\n",
    "except Exception as e:\n",
    "    print(e)\n",
    "    sys.exit(-1)\n"
   ]
  }
 ],
 "metadata": {
  "kernelspec": {
   "display_name": "Python 3",
   "language": "python",
   "name": "python3"
  },
  "language_info": {
   "codemirror_mode": {
    "name": "ipython",
    "version": 2
   },
   "file_extension": ".py",
   "mimetype": "text/x-python",
   "name": "python",
   "nbconvert_exporter": "python",
   "pygments_lexer": "ipython2",
   "version": "2.7.6"
  }
 },
 "nbformat": 4,
 "nbformat_minor": 5
}
