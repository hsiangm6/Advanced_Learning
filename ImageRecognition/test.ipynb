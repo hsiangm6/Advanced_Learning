{
 "cells": [
  {
   "cell_type": "code",
   "execution_count": 2,
   "metadata": {},
   "outputs": [
    {
     "name": "stdout",
     "output_type": "stream",
     "text": [
      "2.13.0\n"
     ]
    }
   ],
   "source": [
    "import cv2\n",
    "import tensorflow as tf\n",
    "import numpy as np\n",
    "print(tf.__version__)"
   ]
  },
  {
   "cell_type": "code",
   "execution_count": null,
   "metadata": {},
   "outputs": [],
   "source": [
    "img=cv2.imread('./img/test1.png')\n",
    "\n",
    "cv2.imshow('img', img)\n",
    "\n",
    "cv2.waitKey(5000) #毫秒"
   ]
  },
  {
   "cell_type": "code",
   "execution_count": 3,
   "metadata": {},
   "outputs": [
    {
     "name": "stdout",
     "output_type": "stream",
     "text": [
      "Array: [1 2 3 4 5]\n",
      "Shape: (5,)\n",
      "Number of elements: 5\n",
      "Mean: 3.0\n",
      "Max: 5\n",
      "Min: 1\n",
      "Element at index 2: 3\n"
     ]
    }
   ],
   "source": [
    "import numpy as np\n",
    "\n",
    "# 创建一个1维数组\n",
    "array = np.array([1, 2, 3, 4, 5])\n",
    "\n",
    "# 打印数组内容\n",
    "print(\"Array:\", array)\n",
    "\n",
    "# 打印数组形状\n",
    "print(\"Shape:\", array.shape)\n",
    "\n",
    "# 打印数组元素个数\n",
    "print(\"Number of elements:\", array.size)\n",
    "\n",
    "# 打印数组平均值\n",
    "print(\"Mean:\", np.mean(array))\n",
    "\n",
    "# 打印数组最大值\n",
    "print(\"Max:\", np.max(array))\n",
    "\n",
    "# 打印数组最小值\n",
    "print(\"Min:\", np.min(array))\n",
    "\n",
    "# 通过数组索引访问元素\n",
    "print(\"Element at index 2:\", array[2])\n"
   ]
  },
  {
   "cell_type": "code",
   "execution_count": 5,
   "metadata": {},
   "outputs": [
    {
     "name": "stdout",
     "output_type": "stream",
     "text": [
      "Epoch 1/10\n",
      "32/32 [==============================] - 1s 2ms/step - loss: 0.6941 - accuracy: 0.5190\n",
      "Epoch 2/10\n",
      "32/32 [==============================] - 0s 2ms/step - loss: 0.6933 - accuracy: 0.5100\n",
      "Epoch 3/10\n",
      "32/32 [==============================] - 0s 1ms/step - loss: 0.6878 - accuracy: 0.5330\n",
      "Epoch 4/10\n",
      "32/32 [==============================] - 0s 2ms/step - loss: 0.6876 - accuracy: 0.5450\n",
      "Epoch 5/10\n",
      "32/32 [==============================] - 0s 1ms/step - loss: 0.6845 - accuracy: 0.5480\n",
      "Epoch 6/10\n",
      "32/32 [==============================] - 0s 2ms/step - loss: 0.6842 - accuracy: 0.5600\n",
      "Epoch 7/10\n",
      "32/32 [==============================] - 0s 1ms/step - loss: 0.6836 - accuracy: 0.5680\n",
      "Epoch 8/10\n",
      "32/32 [==============================] - 0s 2ms/step - loss: 0.6821 - accuracy: 0.5630\n",
      "Epoch 9/10\n",
      "32/32 [==============================] - 0s 1ms/step - loss: 0.6802 - accuracy: 0.5750\n",
      "Epoch 10/10\n",
      "32/32 [==============================] - 0s 2ms/step - loss: 0.6785 - accuracy: 0.5760\n",
      "1/1 [==============================] - 0s 51ms/step\n",
      "Sample Data:\n",
      "[[0.11717194 0.01721914 0.55317931 0.7819539  0.83468589 0.16859898\n",
      "  0.56357273 0.78352106 0.82151361 0.92962418]\n",
      " [0.13070277 0.96183438 0.9351595  0.44959876 0.29513175 0.70423943\n",
      "  0.40859549 0.63839509 0.02998996 0.61729272]\n",
      " [0.36876253 0.58221806 0.29350731 0.23042122 0.11499014 0.65006777\n",
      "  0.31372865 0.21915036 0.64706732 0.12323719]\n",
      " [0.99892677 0.84605879 0.13750306 0.59279123 0.7266854  0.7652878\n",
      "  0.47933842 0.75400193 0.4555715  0.3814476 ]\n",
      " [0.90122106 0.27016646 0.48477957 0.69129356 0.67362459 0.83721114\n",
      "  0.04937872 0.60630176 0.5528369  0.02544733]]\n",
      "Predictions:\n",
      "[[0.5717241 ]\n",
      " [0.49699324]\n",
      " [0.4253263 ]\n",
      " [0.42991862]\n",
      " [0.36604083]]\n"
     ]
    }
   ],
   "source": [
    "import tensorflow as tf\n",
    "\n",
    "# 创建一个简单的神经网络模型\n",
    "model = tf.keras.Sequential([\n",
    "    tf.keras.layers.Dense(64, activation='relu', input_shape=(10,)),\n",
    "    tf.keras.layers.Dense(64, activation='relu'),\n",
    "    tf.keras.layers.Dense(1, activation='sigmoid')\n",
    "])\n",
    "\n",
    "# 编译模型\n",
    "model.compile(optimizer='adam', loss='binary_crossentropy', metrics=['accuracy'])\n",
    "\n",
    "\n",
    "# 创建一些随机的训练数据和标签\n",
    "import numpy as np\n",
    "train_data = np.random.random((1000, 10))\n",
    "train_labels = np.random.randint(2, size=(1000, 1))\n",
    "\n",
    "# 训练模型\n",
    "model.fit(train_data, train_labels, epochs=10, batch_size=32)\n",
    "\n",
    "# 用一些示例数据进行预测\n",
    "sample_data = np.random.random((5, 10))\n",
    "predictions = model.predict(sample_data)\n",
    "\n",
    "print(\"Sample Data:\")\n",
    "print(sample_data)\n",
    "print(\"Predictions:\")\n",
    "print(predictions)\n"
   ]
  }
 ],
 "metadata": {
  "kernelspec": {
   "display_name": "Python 3",
   "language": "python",
   "name": "python3"
  },
  "language_info": {
   "codemirror_mode": {
    "name": "ipython",
    "version": 3
   },
   "file_extension": ".py",
   "mimetype": "text/x-python",
   "name": "python",
   "nbconvert_exporter": "python",
   "pygments_lexer": "ipython3",
   "version": "3.10.2"
  },
  "orig_nbformat": 4
 },
 "nbformat": 4,
 "nbformat_minor": 2
}
