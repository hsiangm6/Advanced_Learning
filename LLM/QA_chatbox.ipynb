{
 "cells": [
  {
   "cell_type": "code",
   "execution_count": 1,
   "id": "initial_id",
   "metadata": {
    "collapsed": true,
    "ExecuteTime": {
     "end_time": "2024-04-18T15:25:48.618510Z",
     "start_time": "2024-04-18T15:25:39.570633Z"
    }
   },
   "outputs": [
    {
     "name": "stdout",
     "output_type": "stream",
     "text": [
      "In the quaint little town of Willow Creek, nestled amidst rolling hills and whispering willows, resided an ordinary schoolgirl named Anya. Her days were filled with books, homework, and the usual routine of a fifth-grader. However, one fateful morning, everything changed when her world collided with a magical backpack.\n",
      "\n",
      "As Anya rummaged through her closet for her schoolbag, her fingers brushed against something unfamiliar. She pulled it out to find a sleek, leather backpack adorned with intricate carvings. Intrigued, she unzipped it, revealing a seemingly bottomless abyss of shimmering rainbow hues.\n",
      "\n",
      "At first, Anya was bewildered. She tried stuffing it with books, pencils, and her favorite teddy bear, but they all mysteriously disappeared into the enigmatic depths. Panic began to creep into her heart as she realized the true nature of her extraordinary find.\n",
      "\n",
      "With trembling hands, she reached into the backpack again. This time, her fingers brushed against a tiny, shimmering button. Curiosity overcame fear, and with a hesitant push, she activated the backpack's hidden power.\n",
      "\n",
      "Suddenly, the air filled with the faint hum of magic. Books arranged themselves neatly, pencils sharpened themselves with a precision that defied explanation, and the teddy bear came to life, its eyes twinkling with mischief. Anya gasped in astonishment as her backpack became a portal to a world of infinite possibilities.\n",
      "\n",
      "From that day forward, Anya's life was a whirlwind of adventure. With her magical backpack, she could summon anything she desired: a picnic lunch on a sunny afternoon, a new dress for a special occasion, or even a library of books to explore.\n",
      "\n",
      "However, with great power comes great responsibility. Anya realized that the backpack was not just a mere tool, but a guardian of boundless imagination and wonder. She vowed to use its powers for good, to inspire others, and to create a world where anything was possible.\n",
      "\n",
      "As time passed, Anya's backpack became a legend in Willow Creek. Children would gather around her, their eyes sparkling with amazement as she shared stories of her magical adventures. And so, the ordinary schoolgirl with an extraordinary backpack became a beacon of hope and joy, reminding everyone that with a little imagination, anything was within their reach.\n"
     ]
    }
   ],
   "source": [
    "import google.generativeai as genai\n",
    "from dotenv import load_dotenv\n",
    "load_dotenv()\n",
    "import os\n",
    "\n",
    "genai.configure(api_key=os.getenv('GOOGLE_API_KEY'))\n",
    "model = genai.GenerativeModel('gemini-pro')\n",
    "response = model.generate_content(\"Write a story about a magic backpack.\")\n",
    "print(response.text)"
   ]
  },
  {
   "cell_type": "code",
   "outputs": [],
   "source": [
    "from dotenv import load_dotenv\n",
    "import streamlit as st\n",
    "import google.generativeai as genai"
   ],
   "metadata": {
    "collapsed": false,
    "ExecuteTime": {
     "end_time": "2024-04-18T14:23:27.311298Z",
     "start_time": "2024-04-18T14:23:26.319279Z"
    }
   },
   "id": "d5cd449fb54d9a68",
   "execution_count": 1
  },
  {
   "cell_type": "code",
   "outputs": [],
   "source": [],
   "metadata": {
    "collapsed": false
   },
   "id": "e72cb48dc7b46649"
  }
 ],
 "metadata": {
  "kernelspec": {
   "display_name": "Python 3",
   "language": "python",
   "name": "python3"
  },
  "language_info": {
   "codemirror_mode": {
    "name": "ipython",
    "version": 2
   },
   "file_extension": ".py",
   "mimetype": "text/x-python",
   "name": "python",
   "nbconvert_exporter": "python",
   "pygments_lexer": "ipython2",
   "version": "2.7.6"
  }
 },
 "nbformat": 4,
 "nbformat_minor": 5
}
